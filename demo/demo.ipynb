{
 "cells": [
  {
   "cell_type": "code",
   "execution_count": 1,
   "id": "7bfe13ff-c143-4983-8069-833e0a4acd76",
   "metadata": {},
   "outputs": [],
   "source": [
    "# Maths and data management\n",
    "import math\n",
    "from math import pi\n",
    "import numpy as np\n",
    "import scipy as sp\n",
    "import pandas as pd\n",
    "import pickle\n",
    "import time\n",
    "from tqdm.auto import tqdm\n",
    "\n",
    "# PGMC\n",
    "from pgmc import kpgmc\n",
    "\n",
    "# Plotting packages\n",
    "import matplotlib.pyplot as plt\n",
    "import seaborn as sns\n",
    "# Plotting configuration\n",
    "%matplotlib inline\n",
    "sns.set()\n",
    "sns.set_context(\"poster\")\n",
    "sns.set_style(\"ticks\")\n",
    "\n",
    "# ML toolkit\n",
    "import sklearn as sk\n",
    "from sklearn.model_selection import train_test_split\n",
    "from sklearn.svm import SVC\n",
    "from sklearn.svm import LinearSVC\n",
    "from sklearn.decomposition import PCA\n",
    "from sklearn.tree import DecisionTreeClassifier\n",
    "from sklearn import datasets\n",
    "from sklearn.multiclass import OneVsOneClassifier,OneVsRestClassifier"
   ]
  },
  {
   "cell_type": "markdown",
   "id": "b646d568-8c7e-470e-915b-db34a09eb1ed",
   "metadata": {},
   "source": [
    "# Datasets"
   ]
  },
  {
   "cell_type": "code",
   "execution_count": 2,
   "id": "39d5492f-02d4-4316-999f-f0e35464efcb",
   "metadata": {},
   "outputs": [],
   "source": [
    "def get_iris():\n",
    "    \"\"\"\n",
    "    Load Iris with some restrictions.\n",
    "    \"\"\"\n",
    "    iris = datasets.load_iris()\n",
    "    X_ = iris.data[:,:2]\n",
    "    Y_ = iris.target\n",
    "    X = np.array([X_[i]+np.array([0,3.3]) for i in range(len(X_)) if Y_[i] != 2])\n",
    "    y = np.array([1 if i==0 else 0 for i in Y_ if i != 2])\n",
    "    size_max = max([np.sqrt(sum(x**2)) for x in X])\n",
    "    X = np.array([[i/size_max for i in x] for x in X],dtype=complex)\n",
    "    \n",
    "    u = sum(X)/len(X)\n",
    "    X = X-u + np.array([0.013,0.])\n",
    "    return X,y\n",
    "\n",
    "def get_mnist(features=5, nb_classes=2, path=\"mnist.pkl\"):\n",
    "    \"\"\"\n",
    "    Load MNIST, eliminate some classes and apply pca.\n",
    "    \"\"\"\n",
    "    pca = PCA(n_components=features)\n",
    "    (X,y) = pickle.load(open(path,\"rb\"))\n",
    "    X = np.array([X[i] for i in range(len(X)) if y[i] in list(range(nb_classes))])\n",
    "    y = np.array([y[i] for i in range(len(y)) if y[i] in list(range(nb_classes))])\n",
    "    if len(X[0]) > features:\n",
    "        X = pca.fit_transform(X)\n",
    "    return X,y"
   ]
  },
  {
   "cell_type": "markdown",
   "id": "2f94b0d1-1cc9-43e2-81ba-5d6a3a46033c",
   "metadata": {},
   "source": [
    "# Tools"
   ]
  },
  {
   "cell_type": "code",
   "execution_count": 3,
   "id": "be5f9417-8e12-44e8-9cf7-c3649b623784",
   "metadata": {},
   "outputs": [],
   "source": [
    "def metrics(y_true,y_pred,average=\"binary\",silent=False):\n",
    "    \"\"\"\n",
    "    Compute and return a lot of metrics given prediction and ground truths.\n",
    "    \"\"\"\n",
    "    if len(list(set(y_pred))) > 2 and average == \"binary\":\n",
    "        average = \"micro\"\n",
    "    accuracy = sk.metrics.accuracy_score(y_true,y_pred)\n",
    "    precision = sk.metrics.precision_score(y_true,y_pred,average=average,zero_division=0)\n",
    "    recall = sk.metrics.recall_score(y_true,y_pred,average=average,zero_division=0)\n",
    "    ba = sk.metrics.balanced_accuracy_score(y_true, y_pred)\n",
    "    mse = sk.metrics.mean_squared_error(y_true, y_pred)\n",
    "    confusion = sk.metrics.confusion_matrix(y_true,y_pred)\n",
    "    fmeas = sk.metrics.f1_score(y_true,y_pred,average=average,zero_division=0)\n",
    "    if not silent:\n",
    "        print(\"Accuracy : \",accuracy)\n",
    "        print(\"Precision : \",precision)\n",
    "        print(\"Recall : \",recall)\n",
    "        print(\"BA : \",ba)\n",
    "        print(\"MSE : \",mse)\n",
    "        print(\"F-measure : \",fmeas)\n",
    "        print(\"Confusion matrix : \\n\",confusion)\n",
    "    return [accuracy,precision,recall,ba,mse,fmeas,confusion]\n",
    "\n",
    "\n",
    "def imbalance(X,y,ratio):\n",
    "    \"\"\"\n",
    "    Articificially imbalance a dataset.\n",
    "    \"\"\"\n",
    "    X0 = np.array([[X[i],y[i]] for i in range(len(y)) if y[i] == 0],dtype=object)\n",
    "    X1 = np.array([[X[i],y[i]] for i in range(len(y)) if y[i] == 1],dtype=object)\n",
    "    current = len(X1)/(len(X0)+len(X1))\n",
    "    if current > ratio:\n",
    "        desired_len = int(len(X0)*ratio/(1-ratio))\n",
    "        c1 = np.random.choice(list(range(len(X1))),desired_len,replace=False)\n",
    "        X1 = X1[c1]\n",
    "    else:\n",
    "        desired_len = int(len(X1)*(1-ratio)/ratio)\n",
    "        c0 = np.random.choice(list(range(len(X0))),desired_len,replace=False)\n",
    "        X0 = X0[c0]\n",
    "    data = np.concatenate([X0,X1])\n",
    "    X_ = np.array(list(data[:,0]))\n",
    "    y_ = np.array(list(data[:,1]))\n",
    "    return X_,y_"
   ]
  },
  {
   "cell_type": "markdown",
   "id": "ae4016c6-52f4-48d8-9607-34434589b683",
   "metadata": {},
   "source": [
    "# Task manager\n",
    "The task manager will run all the classifier provided on all the datasets provided with k-fold cross validation."
   ]
  },
  {
   "cell_type": "code",
   "execution_count": 4,
   "id": "c0f015fd-f36f-435e-98be-6bdd5046192e",
   "metadata": {},
   "outputs": [],
   "source": [
    "class Task:\n",
    "    def __init__(self, repeat=5):\n",
    "        self.datasets = []\n",
    "        self.clf = []\n",
    "        self.repeat=repeat\n",
    "\n",
    "    def todo(self):\n",
    "        ret = []\n",
    "        for data_name,X,y in self.datasets:\n",
    "            for name_clf,clf in self.clf:\n",
    "                ret.append([data_name,X,y,name_clf,clf,self.repeat])\n",
    "        return ret\n",
    "\n",
    "    def add_data(self,name,X,y):\n",
    "        self.datasets.append((name,X,y))\n",
    "\n",
    "    def add_clf(self,name,clf):\n",
    "        self.clf.append((name,clf))\n",
    "\n",
    "    def run_aux(self,clf,X_train,y_train,X_test,y_test):\n",
    "        T = time.time()\n",
    "        clf.fit(X_train,y_train)\n",
    "        T = time.time() - T\n",
    "        y_pred = clf.predict(X_test)\n",
    "        l = metrics(y_test,y_pred,silent=True,average=\"binary\" if len(set(y_test))==2 else \"micro\")\n",
    "        return [len(y_train),len(X_train[0])]+l[0:6]+[T]\n",
    "\n",
    "    def run(self):\n",
    "        res = []\n",
    "        for name_data,X,y,name_clf,clf,repeat in tqdm(self.todo()):\n",
    "                rs = sk.model_selection.ShuffleSplit(n_splits=repeat, test_size=0.3, random_state=0)\n",
    "                for i, (train_index, test_index) in tqdm(enumerate(rs.split(X)),total=repeat,desc=f\"{repeat}-fold CrossValidation of {name_clf} on {name_data}\",leave=False):\n",
    "                    res.append(self.run_aux(clf(),X[train_index],y[train_index],X[test_index],y[test_index])+[name_clf,name_data])\n",
    "        return pd.DataFrame(res,columns=[\"size\",\"features\",\"acc\",\"precision\",\"recall\",\"ba\",\"mse\",\"f1\",\"time\",\"clf\",\"data\"])"
   ]
  },
  {
   "cell_type": "markdown",
   "id": "9125e6cd-fa5b-44d7-baa5-84bd177eaf2d",
   "metadata": {},
   "source": [
    "# Example 1 : Running KPGMC with RBF kernel on MNIST-1D\n",
    "Here we make the classification on MNIST-1D with a rbf kernel. There is three variants : \n",
    "    + one that uses normalization embedding\n",
    "    + one that uses orthogonal embedding\n",
    "    + one that uses normalization embedding and a one vs one strategy for the multi-class classification"
   ]
  },
  {
   "cell_type": "code",
   "execution_count": 5,
   "id": "56d061f8-385f-4fda-9a0b-c036f9554778",
   "metadata": {},
   "outputs": [
    {
     "data": {
      "application/vnd.jupyter.widget-view+json": {
       "model_id": "bed835ad684f49f4b0485edba19af239",
       "version_major": 2,
       "version_minor": 0
      },
      "text/plain": [
       "  0%|          | 0/3 [00:00<?, ?it/s]"
      ]
     },
     "metadata": {},
     "output_type": "display_data"
    },
    {
     "data": {
      "application/vnd.jupyter.widget-view+json": {
       "model_id": "",
       "version_major": 2,
       "version_minor": 0
      },
      "text/plain": [
       "5-fold CrossValidation of KPGMC rbf on MNIST-1D 0.5|0.5:   0%|          | 0/5 [00:00<?, ?it/s]"
      ]
     },
     "metadata": {},
     "output_type": "display_data"
    },
    {
     "data": {
      "application/vnd.jupyter.widget-view+json": {
       "model_id": "",
       "version_major": 2,
       "version_minor": 0
      },
      "text/plain": [
       "5-fold CrossValidation of KPGMC rbf one vs one on MNIST-1D 0.5|0.5:   0%|          | 0/5 [00:00<?, ?it/s]"
      ]
     },
     "metadata": {},
     "output_type": "display_data"
    },
    {
     "data": {
      "application/vnd.jupyter.widget-view+json": {
       "model_id": "",
       "version_major": 2,
       "version_minor": 0
      },
      "text/plain": [
       "5-fold CrossValidation of KPGMC rbf orthogonal on MNIST-1D 0.5|0.5:   0%|          | 0/5 [00:00<?, ?it/s]"
      ]
     },
     "metadata": {},
     "output_type": "display_data"
    }
   ],
   "source": [
    "task = Task(repeat=5) # 5-fold crossvalidation\n",
    "\n",
    "## DATASETS\n",
    "X,y = get_mnist(40,10,path=\"mnist1d.pkl\")\n",
    "X,y = X[::10],y[::10]\n",
    "task.add_data(\"MNIST-1D 0.5|0.5\",X,y)\n",
    "\n",
    "## CLASSIFIERS\n",
    "task.add_clf(\"KPGMC rbf\",lambda :kpgmc.KPGMC(kernel=lambda x,y:np.exp(-np.linalg.norm(x-y)**2),class_weight=\"optimize\"))\n",
    "task.add_clf(\"KPGMC rbf one vs one\",lambda :OneVsOneClassifier(kpgmc.KPGMC(kernel=lambda x,y:np.exp(-np.linalg.norm(x-y)**2),class_weight=\"optimize\")))\n",
    "task.add_clf(\"KPGMC rbf orthogonal\",lambda :kpgmc.KPGMC(kernel=lambda x,y:np.exp(-np.linalg.norm(x-y)**2),embedding=\"orthogonal\",class_weight=\"optimize\"))\n",
    "\n",
    "data = task.run()"
   ]
  },
  {
   "cell_type": "code",
   "execution_count": 6,
   "id": "0edea892-d960-4956-a37e-0dceaacd06c8",
   "metadata": {},
   "outputs": [
    {
     "data": {
      "text/html": [
       "<div>\n",
       "<style scoped>\n",
       "    .dataframe tbody tr th:only-of-type {\n",
       "        vertical-align: middle;\n",
       "    }\n",
       "\n",
       "    .dataframe tbody tr th {\n",
       "        vertical-align: top;\n",
       "    }\n",
       "\n",
       "    .dataframe thead th {\n",
       "        text-align: right;\n",
       "    }\n",
       "</style>\n",
       "<table border=\"1\" class=\"dataframe\">\n",
       "  <thead>\n",
       "    <tr style=\"text-align: right;\">\n",
       "      <th></th>\n",
       "      <th></th>\n",
       "      <th>size</th>\n",
       "      <th>features</th>\n",
       "      <th>acc</th>\n",
       "      <th>precision</th>\n",
       "      <th>recall</th>\n",
       "      <th>ba</th>\n",
       "      <th>mse</th>\n",
       "      <th>f1</th>\n",
       "      <th>time</th>\n",
       "    </tr>\n",
       "    <tr>\n",
       "      <th>data</th>\n",
       "      <th>clf</th>\n",
       "      <th></th>\n",
       "      <th></th>\n",
       "      <th></th>\n",
       "      <th></th>\n",
       "      <th></th>\n",
       "      <th></th>\n",
       "      <th></th>\n",
       "      <th></th>\n",
       "      <th></th>\n",
       "    </tr>\n",
       "  </thead>\n",
       "  <tbody>\n",
       "    <tr>\n",
       "      <th rowspan=\"3\" valign=\"top\">MNIST-1D 0.5|0.5</th>\n",
       "      <th>KPGMC rbf</th>\n",
       "      <td>350.0</td>\n",
       "      <td>40.0</td>\n",
       "      <td>0.362667</td>\n",
       "      <td>0.362667</td>\n",
       "      <td>0.362667</td>\n",
       "      <td>0.358632</td>\n",
       "      <td>10.858667</td>\n",
       "      <td>0.362667</td>\n",
       "      <td>0.795568</td>\n",
       "    </tr>\n",
       "    <tr>\n",
       "      <th>KPGMC rbf one vs one</th>\n",
       "      <td>350.0</td>\n",
       "      <td>40.0</td>\n",
       "      <td>0.365333</td>\n",
       "      <td>0.365333</td>\n",
       "      <td>0.365333</td>\n",
       "      <td>0.371031</td>\n",
       "      <td>10.874667</td>\n",
       "      <td>0.365333</td>\n",
       "      <td>3.587178</td>\n",
       "    </tr>\n",
       "    <tr>\n",
       "      <th>KPGMC rbf orthogonal</th>\n",
       "      <td>350.0</td>\n",
       "      <td>40.0</td>\n",
       "      <td>0.349333</td>\n",
       "      <td>0.349333</td>\n",
       "      <td>0.349333</td>\n",
       "      <td>0.348268</td>\n",
       "      <td>11.056000</td>\n",
       "      <td>0.349333</td>\n",
       "      <td>0.651827</td>\n",
       "    </tr>\n",
       "  </tbody>\n",
       "</table>\n",
       "</div>"
      ],
      "text/plain": [
       "                                        size  features       acc  precision  \\\n",
       "data             clf                                                          \n",
       "MNIST-1D 0.5|0.5 KPGMC rbf             350.0      40.0  0.362667   0.362667   \n",
       "                 KPGMC rbf one vs one  350.0      40.0  0.365333   0.365333   \n",
       "                 KPGMC rbf orthogonal  350.0      40.0  0.349333   0.349333   \n",
       "\n",
       "                                         recall        ba        mse  \\\n",
       "data             clf                                                   \n",
       "MNIST-1D 0.5|0.5 KPGMC rbf             0.362667  0.358632  10.858667   \n",
       "                 KPGMC rbf one vs one  0.365333  0.371031  10.874667   \n",
       "                 KPGMC rbf orthogonal  0.349333  0.348268  11.056000   \n",
       "\n",
       "                                             f1      time  \n",
       "data             clf                                       \n",
       "MNIST-1D 0.5|0.5 KPGMC rbf             0.362667  0.795568  \n",
       "                 KPGMC rbf one vs one  0.365333  3.587178  \n",
       "                 KPGMC rbf orthogonal  0.349333  0.651827  "
      ]
     },
     "execution_count": 6,
     "metadata": {},
     "output_type": "execute_result"
    }
   ],
   "source": [
    "data.groupby([\"data\",\"clf\"]).mean(numeric_only=False)"
   ]
  },
  {
   "cell_type": "markdown",
   "id": "f60753fd-225d-4eb9-9f4a-b7a59c8b2670",
   "metadata": {},
   "source": [
    "# Full classification task"
   ]
  },
  {
   "cell_type": "code",
   "execution_count": 7,
   "id": "d374078d-d8c5-42e6-bc2c-9e83b0da7620",
   "metadata": {},
   "outputs": [
    {
     "data": {
      "application/vnd.jupyter.widget-view+json": {
       "model_id": "d554a62e894246af90c6d0341d430f2d",
       "version_major": 2,
       "version_minor": 0
      },
      "text/plain": [
       "  0%|          | 0/39 [00:00<?, ?it/s]"
      ]
     },
     "metadata": {},
     "output_type": "display_data"
    },
    {
     "data": {
      "application/vnd.jupyter.widget-view+json": {
       "model_id": "",
       "version_major": 2,
       "version_minor": 0
      },
      "text/plain": [
       "5-fold CrossValidation of SVM linear on MNIST-1D 0.5|0.5:   0%|          | 0/5 [00:00<?, ?it/s]"
      ]
     },
     "metadata": {},
     "output_type": "display_data"
    },
    {
     "data": {
      "application/vnd.jupyter.widget-view+json": {
       "model_id": "",
       "version_major": 2,
       "version_minor": 0
      },
      "text/plain": [
       "5-fold CrossValidation of SVM linear balanced on MNIST-1D 0.5|0.5:   0%|          | 0/5 [00:00<?, ?it/s]"
      ]
     },
     "metadata": {},
     "output_type": "display_data"
    },
    {
     "data": {
      "application/vnd.jupyter.widget-view+json": {
       "model_id": "",
       "version_major": 2,
       "version_minor": 0
      },
      "text/plain": [
       "5-fold CrossValidation of SVM rbf on MNIST-1D 0.5|0.5:   0%|          | 0/5 [00:00<?, ?it/s]"
      ]
     },
     "metadata": {},
     "output_type": "display_data"
    },
    {
     "data": {
      "application/vnd.jupyter.widget-view+json": {
       "model_id": "",
       "version_major": 2,
       "version_minor": 0
      },
      "text/plain": [
       "5-fold CrossValidation of SVM rbf balanced on MNIST-1D 0.5|0.5:   0%|          | 0/5 [00:00<?, ?it/s]"
      ]
     },
     "metadata": {},
     "output_type": "display_data"
    },
    {
     "data": {
      "application/vnd.jupyter.widget-view+json": {
       "model_id": "",
       "version_major": 2,
       "version_minor": 0
      },
      "text/plain": [
       "5-fold CrossValidation of Tree on MNIST-1D 0.5|0.5:   0%|          | 0/5 [00:00<?, ?it/s]"
      ]
     },
     "metadata": {},
     "output_type": "display_data"
    },
    {
     "data": {
      "application/vnd.jupyter.widget-view+json": {
       "model_id": "",
       "version_major": 2,
       "version_minor": 0
      },
      "text/plain": [
       "5-fold CrossValidation of KPGMC normal on MNIST-1D 0.5|0.5:   0%|          | 0/5 [00:00<?, ?it/s]"
      ]
     },
     "metadata": {},
     "output_type": "display_data"
    },
    {
     "data": {
      "application/vnd.jupyter.widget-view+json": {
       "model_id": "",
       "version_major": 2,
       "version_minor": 0
      },
      "text/plain": [
       "5-fold CrossValidation of KPGMC normal copy on MNIST-1D 0.5|0.5:   0%|          | 0/5 [00:00<?, ?it/s]"
      ]
     },
     "metadata": {},
     "output_type": "display_data"
    },
    {
     "data": {
      "application/vnd.jupyter.widget-view+json": {
       "model_id": "",
       "version_major": 2,
       "version_minor": 0
      },
      "text/plain": [
       "5-fold CrossValidation of KPGMC ortho on MNIST-1D 0.5|0.5:   0%|          | 0/5 [00:00<?, ?it/s]"
      ]
     },
     "metadata": {},
     "output_type": "display_data"
    },
    {
     "data": {
      "application/vnd.jupyter.widget-view+json": {
       "model_id": "",
       "version_major": 2,
       "version_minor": 0
      },
      "text/plain": [
       "5-fold CrossValidation of KPGMC ortho one vs one on MNIST-1D 0.5|0.5:   0%|          | 0/5 [00:00<?, ?it/s]"
      ]
     },
     "metadata": {},
     "output_type": "display_data"
    },
    {
     "data": {
      "application/vnd.jupyter.widget-view+json": {
       "model_id": "",
       "version_major": 2,
       "version_minor": 0
      },
      "text/plain": [
       "5-fold CrossValidation of KPGMC exp on MNIST-1D 0.5|0.5:   0%|          | 0/5 [00:00<?, ?it/s]"
      ]
     },
     "metadata": {},
     "output_type": "display_data"
    },
    {
     "data": {
      "application/vnd.jupyter.widget-view+json": {
       "model_id": "",
       "version_major": 2,
       "version_minor": 0
      },
      "text/plain": [
       "5-fold CrossValidation of KPGMC gauss on MNIST-1D 0.5|0.5:   0%|          | 0/5 [00:00<?, ?it/s]"
      ]
     },
     "metadata": {},
     "output_type": "display_data"
    },
    {
     "data": {
      "application/vnd.jupyter.widget-view+json": {
       "model_id": "",
       "version_major": 2,
       "version_minor": 0
      },
      "text/plain": [
       "5-fold CrossValidation of KPGMC rbf on MNIST-1D 0.5|0.5:   0%|          | 0/5 [00:00<?, ?it/s]"
      ]
     },
     "metadata": {},
     "output_type": "display_data"
    },
    {
     "data": {
      "application/vnd.jupyter.widget-view+json": {
       "model_id": "",
       "version_major": 2,
       "version_minor": 0
      },
      "text/plain": [
       "5-fold CrossValidation of KPGMC rbf auto on MNIST-1D 0.5|0.5:   0%|          | 0/5 [00:00<?, ?it/s]"
      ]
     },
     "metadata": {},
     "output_type": "display_data"
    },
    {
     "data": {
      "application/vnd.jupyter.widget-view+json": {
       "model_id": "",
       "version_major": 2,
       "version_minor": 0
      },
      "text/plain": [
       "5-fold CrossValidation of SVM linear on MNIST-1D 0.75|0.25:   0%|          | 0/5 [00:00<?, ?it/s]"
      ]
     },
     "metadata": {},
     "output_type": "display_data"
    },
    {
     "data": {
      "application/vnd.jupyter.widget-view+json": {
       "model_id": "",
       "version_major": 2,
       "version_minor": 0
      },
      "text/plain": [
       "5-fold CrossValidation of SVM linear balanced on MNIST-1D 0.75|0.25:   0%|          | 0/5 [00:00<?, ?it/s]"
      ]
     },
     "metadata": {},
     "output_type": "display_data"
    },
    {
     "data": {
      "application/vnd.jupyter.widget-view+json": {
       "model_id": "",
       "version_major": 2,
       "version_minor": 0
      },
      "text/plain": [
       "5-fold CrossValidation of SVM rbf on MNIST-1D 0.75|0.25:   0%|          | 0/5 [00:00<?, ?it/s]"
      ]
     },
     "metadata": {},
     "output_type": "display_data"
    },
    {
     "data": {
      "application/vnd.jupyter.widget-view+json": {
       "model_id": "",
       "version_major": 2,
       "version_minor": 0
      },
      "text/plain": [
       "5-fold CrossValidation of SVM rbf balanced on MNIST-1D 0.75|0.25:   0%|          | 0/5 [00:00<?, ?it/s]"
      ]
     },
     "metadata": {},
     "output_type": "display_data"
    },
    {
     "data": {
      "application/vnd.jupyter.widget-view+json": {
       "model_id": "",
       "version_major": 2,
       "version_minor": 0
      },
      "text/plain": [
       "5-fold CrossValidation of Tree on MNIST-1D 0.75|0.25:   0%|          | 0/5 [00:00<?, ?it/s]"
      ]
     },
     "metadata": {},
     "output_type": "display_data"
    },
    {
     "data": {
      "application/vnd.jupyter.widget-view+json": {
       "model_id": "",
       "version_major": 2,
       "version_minor": 0
      },
      "text/plain": [
       "5-fold CrossValidation of KPGMC normal on MNIST-1D 0.75|0.25:   0%|          | 0/5 [00:00<?, ?it/s]"
      ]
     },
     "metadata": {},
     "output_type": "display_data"
    },
    {
     "data": {
      "application/vnd.jupyter.widget-view+json": {
       "model_id": "",
       "version_major": 2,
       "version_minor": 0
      },
      "text/plain": [
       "5-fold CrossValidation of KPGMC normal copy on MNIST-1D 0.75|0.25:   0%|          | 0/5 [00:00<?, ?it/s]"
      ]
     },
     "metadata": {},
     "output_type": "display_data"
    },
    {
     "data": {
      "application/vnd.jupyter.widget-view+json": {
       "model_id": "",
       "version_major": 2,
       "version_minor": 0
      },
      "text/plain": [
       "5-fold CrossValidation of KPGMC ortho on MNIST-1D 0.75|0.25:   0%|          | 0/5 [00:00<?, ?it/s]"
      ]
     },
     "metadata": {},
     "output_type": "display_data"
    },
    {
     "data": {
      "application/vnd.jupyter.widget-view+json": {
       "model_id": "",
       "version_major": 2,
       "version_minor": 0
      },
      "text/plain": [
       "5-fold CrossValidation of KPGMC ortho one vs one on MNIST-1D 0.75|0.25:   0%|          | 0/5 [00:00<?, ?it/s]"
      ]
     },
     "metadata": {},
     "output_type": "display_data"
    },
    {
     "data": {
      "application/vnd.jupyter.widget-view+json": {
       "model_id": "",
       "version_major": 2,
       "version_minor": 0
      },
      "text/plain": [
       "5-fold CrossValidation of KPGMC exp on MNIST-1D 0.75|0.25:   0%|          | 0/5 [00:00<?, ?it/s]"
      ]
     },
     "metadata": {},
     "output_type": "display_data"
    },
    {
     "data": {
      "application/vnd.jupyter.widget-view+json": {
       "model_id": "",
       "version_major": 2,
       "version_minor": 0
      },
      "text/plain": [
       "5-fold CrossValidation of KPGMC gauss on MNIST-1D 0.75|0.25:   0%|          | 0/5 [00:00<?, ?it/s]"
      ]
     },
     "metadata": {},
     "output_type": "display_data"
    },
    {
     "data": {
      "application/vnd.jupyter.widget-view+json": {
       "model_id": "",
       "version_major": 2,
       "version_minor": 0
      },
      "text/plain": [
       "5-fold CrossValidation of KPGMC rbf on MNIST-1D 0.75|0.25:   0%|          | 0/5 [00:00<?, ?it/s]"
      ]
     },
     "metadata": {},
     "output_type": "display_data"
    },
    {
     "data": {
      "application/vnd.jupyter.widget-view+json": {
       "model_id": "",
       "version_major": 2,
       "version_minor": 0
      },
      "text/plain": [
       "5-fold CrossValidation of KPGMC rbf auto on MNIST-1D 0.75|0.25:   0%|          | 0/5 [00:00<?, ?it/s]"
      ]
     },
     "metadata": {},
     "output_type": "display_data"
    },
    {
     "data": {
      "application/vnd.jupyter.widget-view+json": {
       "model_id": "",
       "version_major": 2,
       "version_minor": 0
      },
      "text/plain": [
       "5-fold CrossValidation of SVM linear on MNIST-1D 0.9|0.1:   0%|          | 0/5 [00:00<?, ?it/s]"
      ]
     },
     "metadata": {},
     "output_type": "display_data"
    },
    {
     "data": {
      "application/vnd.jupyter.widget-view+json": {
       "model_id": "",
       "version_major": 2,
       "version_minor": 0
      },
      "text/plain": [
       "5-fold CrossValidation of SVM linear balanced on MNIST-1D 0.9|0.1:   0%|          | 0/5 [00:00<?, ?it/s]"
      ]
     },
     "metadata": {},
     "output_type": "display_data"
    },
    {
     "data": {
      "application/vnd.jupyter.widget-view+json": {
       "model_id": "",
       "version_major": 2,
       "version_minor": 0
      },
      "text/plain": [
       "5-fold CrossValidation of SVM rbf on MNIST-1D 0.9|0.1:   0%|          | 0/5 [00:00<?, ?it/s]"
      ]
     },
     "metadata": {},
     "output_type": "display_data"
    },
    {
     "data": {
      "application/vnd.jupyter.widget-view+json": {
       "model_id": "",
       "version_major": 2,
       "version_minor": 0
      },
      "text/plain": [
       "5-fold CrossValidation of SVM rbf balanced on MNIST-1D 0.9|0.1:   0%|          | 0/5 [00:00<?, ?it/s]"
      ]
     },
     "metadata": {},
     "output_type": "display_data"
    },
    {
     "data": {
      "application/vnd.jupyter.widget-view+json": {
       "model_id": "",
       "version_major": 2,
       "version_minor": 0
      },
      "text/plain": [
       "5-fold CrossValidation of Tree on MNIST-1D 0.9|0.1:   0%|          | 0/5 [00:00<?, ?it/s]"
      ]
     },
     "metadata": {},
     "output_type": "display_data"
    },
    {
     "data": {
      "application/vnd.jupyter.widget-view+json": {
       "model_id": "",
       "version_major": 2,
       "version_minor": 0
      },
      "text/plain": [
       "5-fold CrossValidation of KPGMC normal on MNIST-1D 0.9|0.1:   0%|          | 0/5 [00:00<?, ?it/s]"
      ]
     },
     "metadata": {},
     "output_type": "display_data"
    },
    {
     "data": {
      "application/vnd.jupyter.widget-view+json": {
       "model_id": "",
       "version_major": 2,
       "version_minor": 0
      },
      "text/plain": [
       "5-fold CrossValidation of KPGMC normal copy on MNIST-1D 0.9|0.1:   0%|          | 0/5 [00:00<?, ?it/s]"
      ]
     },
     "metadata": {},
     "output_type": "display_data"
    },
    {
     "data": {
      "application/vnd.jupyter.widget-view+json": {
       "model_id": "",
       "version_major": 2,
       "version_minor": 0
      },
      "text/plain": [
       "5-fold CrossValidation of KPGMC ortho on MNIST-1D 0.9|0.1:   0%|          | 0/5 [00:00<?, ?it/s]"
      ]
     },
     "metadata": {},
     "output_type": "display_data"
    },
    {
     "data": {
      "application/vnd.jupyter.widget-view+json": {
       "model_id": "",
       "version_major": 2,
       "version_minor": 0
      },
      "text/plain": [
       "5-fold CrossValidation of KPGMC ortho one vs one on MNIST-1D 0.9|0.1:   0%|          | 0/5 [00:00<?, ?it/s]"
      ]
     },
     "metadata": {},
     "output_type": "display_data"
    },
    {
     "data": {
      "application/vnd.jupyter.widget-view+json": {
       "model_id": "",
       "version_major": 2,
       "version_minor": 0
      },
      "text/plain": [
       "5-fold CrossValidation of KPGMC exp on MNIST-1D 0.9|0.1:   0%|          | 0/5 [00:00<?, ?it/s]"
      ]
     },
     "metadata": {},
     "output_type": "display_data"
    },
    {
     "data": {
      "application/vnd.jupyter.widget-view+json": {
       "model_id": "",
       "version_major": 2,
       "version_minor": 0
      },
      "text/plain": [
       "5-fold CrossValidation of KPGMC gauss on MNIST-1D 0.9|0.1:   0%|          | 0/5 [00:00<?, ?it/s]"
      ]
     },
     "metadata": {},
     "output_type": "display_data"
    },
    {
     "data": {
      "application/vnd.jupyter.widget-view+json": {
       "model_id": "",
       "version_major": 2,
       "version_minor": 0
      },
      "text/plain": [
       "5-fold CrossValidation of KPGMC rbf on MNIST-1D 0.9|0.1:   0%|          | 0/5 [00:00<?, ?it/s]"
      ]
     },
     "metadata": {},
     "output_type": "display_data"
    },
    {
     "data": {
      "application/vnd.jupyter.widget-view+json": {
       "model_id": "",
       "version_major": 2,
       "version_minor": 0
      },
      "text/plain": [
       "5-fold CrossValidation of KPGMC rbf auto on MNIST-1D 0.9|0.1:   0%|          | 0/5 [00:00<?, ?it/s]"
      ]
     },
     "metadata": {},
     "output_type": "display_data"
    }
   ],
   "source": [
    "task = Task(repeat=5)\n",
    "\n",
    "## DATASETS\n",
    "X,y = get_mnist(40,10,path=\"mnist1d.pkl\")\n",
    "X,y = X[::7],y[::7]\n",
    "task.add_data(\"MNIST-1D 0.5|0.5\",X,y)\n",
    "\n",
    "X,y = imbalance(*get_mnist(40,2,path=\"mnist1d.pkl\"),0.25) # i features 2 classes\n",
    "task.add_data(\"MNIST-1D 0.75|0.25\",X,y)\n",
    "\n",
    "X,y = imbalance(*get_mnist(40,2,path=\"mnist1d.pkl\"),0.1) # i features 2 classes\n",
    "task.add_data(\"MNIST-1D 0.9|0.1\",X,y)\n",
    "\n",
    "## CLASSIFIERS\n",
    "task.add_clf(\"SVM linear\",lambda :SVC(kernel=\"linear\"))\n",
    "task.add_clf(\"SVM linear balanced\",lambda :SVC(kernel=\"linear\",class_weight=\"balanced\"))\n",
    "task.add_clf(\"SVM rbf\",lambda :SVC())\n",
    "task.add_clf(\"SVM rbf balanced\",lambda :SVC(class_weight=\"balanced\"))\n",
    "task.add_clf(\"Tree\",lambda :DecisionTreeClassifier())\n",
    "task.add_clf(\"KPGMC normal\",lambda :kpgmc.KPGMC(kernel=lambda x,y:np.dot(x,y)**100 ,embedding=\"normal\",class_weight=None))\n",
    "task.add_clf(\"KPGMC normal copy\",lambda :kpgmc.KPGMC(kernel=lambda x,y:np.dot(x,y)**100 ,embedding=\"normal\",class_weight=None))\n",
    "task.add_clf(\"KPGMC ortho\",lambda :kpgmc.KPGMC(embedding=\"orthogonal\",class_weight=\"optimize\"))\n",
    "task.add_clf(\"KPGMC ortho one vs one\",lambda :OneVsOneClassifier(kpgmc.KPGMC(embedding=\"orthogonal\",class_weight=\"optimize\")))\n",
    "task.add_clf(\"KPGMC exp\",lambda :kpgmc.KPGMC(kernel=lambda x,y:np.exp(((np.dot(x,y)+1)/2)*100),class_weight=\"optimize\"))\n",
    "task.add_clf(\"KPGMC gauss\",lambda :kpgmc.KPGMC(kernel=lambda x,y:np.exp(np.dot(x,y)**2),class_weight=\"optimize\"))\n",
    "task.add_clf(\"KPGMC rbf\",lambda :kpgmc.KPGMC(kernel=lambda x,y:np.exp(-np.linalg.norm(x-y)**2),class_weight=\"optimize\"))\n",
    "task.add_clf(\"KPGMC rbf auto\",lambda :kpgmc.KPGMC(kernel=lambda x,y:np.exp(-np.linalg.norm(x-y)**2),class_weight=\"auto\"))\n",
    "\n",
    "\n",
    "data = task.run()"
   ]
  },
  {
   "cell_type": "code",
   "execution_count": 8,
   "id": "f7685f95-a069-4c49-8af8-c1a0fb8eeed1",
   "metadata": {},
   "outputs": [
    {
     "data": {
      "text/html": [
       "<div>\n",
       "<style scoped>\n",
       "    .dataframe tbody tr th:only-of-type {\n",
       "        vertical-align: middle;\n",
       "    }\n",
       "\n",
       "    .dataframe tbody tr th {\n",
       "        vertical-align: top;\n",
       "    }\n",
       "\n",
       "    .dataframe thead th {\n",
       "        text-align: right;\n",
       "    }\n",
       "</style>\n",
       "<table border=\"1\" class=\"dataframe\">\n",
       "  <thead>\n",
       "    <tr style=\"text-align: right;\">\n",
       "      <th></th>\n",
       "      <th></th>\n",
       "      <th>size</th>\n",
       "      <th>features</th>\n",
       "      <th>acc</th>\n",
       "      <th>precision</th>\n",
       "      <th>recall</th>\n",
       "      <th>ba</th>\n",
       "      <th>mse</th>\n",
       "      <th>f1</th>\n",
       "      <th>time</th>\n",
       "    </tr>\n",
       "    <tr>\n",
       "      <th>data</th>\n",
       "      <th>clf</th>\n",
       "      <th></th>\n",
       "      <th></th>\n",
       "      <th></th>\n",
       "      <th></th>\n",
       "      <th></th>\n",
       "      <th></th>\n",
       "      <th></th>\n",
       "      <th></th>\n",
       "      <th></th>\n",
       "    </tr>\n",
       "  </thead>\n",
       "  <tbody>\n",
       "    <tr>\n",
       "      <th rowspan=\"13\" valign=\"top\">MNIST-1D 0.5|0.5</th>\n",
       "      <th>KPGMC exp</th>\n",
       "      <td>500.0</td>\n",
       "      <td>40.0</td>\n",
       "      <td>0.381395</td>\n",
       "      <td>0.381395</td>\n",
       "      <td>0.381395</td>\n",
       "      <td>0.379253</td>\n",
       "      <td>11.438140</td>\n",
       "      <td>0.381395</td>\n",
       "      <td>1.060269</td>\n",
       "    </tr>\n",
       "    <tr>\n",
       "      <th>KPGMC gauss</th>\n",
       "      <td>500.0</td>\n",
       "      <td>40.0</td>\n",
       "      <td>0.259535</td>\n",
       "      <td>0.259535</td>\n",
       "      <td>0.259535</td>\n",
       "      <td>0.261646</td>\n",
       "      <td>15.560000</td>\n",
       "      <td>0.259535</td>\n",
       "      <td>1.479728</td>\n",
       "    </tr>\n",
       "    <tr>\n",
       "      <th>KPGMC normal</th>\n",
       "      <td>500.0</td>\n",
       "      <td>40.0</td>\n",
       "      <td>0.223256</td>\n",
       "      <td>0.223256</td>\n",
       "      <td>0.223256</td>\n",
       "      <td>0.219815</td>\n",
       "      <td>16.151628</td>\n",
       "      <td>0.223256</td>\n",
       "      <td>0.598350</td>\n",
       "    </tr>\n",
       "    <tr>\n",
       "      <th>KPGMC normal copy</th>\n",
       "      <td>500.0</td>\n",
       "      <td>40.0</td>\n",
       "      <td>0.223256</td>\n",
       "      <td>0.223256</td>\n",
       "      <td>0.223256</td>\n",
       "      <td>0.219815</td>\n",
       "      <td>16.151628</td>\n",
       "      <td>0.223256</td>\n",
       "      <td>0.570817</td>\n",
       "    </tr>\n",
       "    <tr>\n",
       "      <th>KPGMC ortho</th>\n",
       "      <td>500.0</td>\n",
       "      <td>40.0</td>\n",
       "      <td>0.297674</td>\n",
       "      <td>0.297674</td>\n",
       "      <td>0.297674</td>\n",
       "      <td>0.308966</td>\n",
       "      <td>10.979535</td>\n",
       "      <td>0.297674</td>\n",
       "      <td>3.570996</td>\n",
       "    </tr>\n",
       "    <tr>\n",
       "      <th>KPGMC ortho one vs one</th>\n",
       "      <td>500.0</td>\n",
       "      <td>40.0</td>\n",
       "      <td>0.325581</td>\n",
       "      <td>0.325581</td>\n",
       "      <td>0.325581</td>\n",
       "      <td>0.323673</td>\n",
       "      <td>11.049302</td>\n",
       "      <td>0.325581</td>\n",
       "      <td>7.441069</td>\n",
       "    </tr>\n",
       "    <tr>\n",
       "      <th>KPGMC rbf</th>\n",
       "      <td>500.0</td>\n",
       "      <td>40.0</td>\n",
       "      <td>0.399070</td>\n",
       "      <td>0.399070</td>\n",
       "      <td>0.399070</td>\n",
       "      <td>0.406039</td>\n",
       "      <td>10.299535</td>\n",
       "      <td>0.399070</td>\n",
       "      <td>1.347480</td>\n",
       "    </tr>\n",
       "    <tr>\n",
       "      <th>KPGMC rbf auto</th>\n",
       "      <td>500.0</td>\n",
       "      <td>40.0</td>\n",
       "      <td>0.399070</td>\n",
       "      <td>0.399070</td>\n",
       "      <td>0.399070</td>\n",
       "      <td>0.406039</td>\n",
       "      <td>10.299535</td>\n",
       "      <td>0.399070</td>\n",
       "      <td>0.818585</td>\n",
       "    </tr>\n",
       "    <tr>\n",
       "      <th>SVM linear</th>\n",
       "      <td>500.0</td>\n",
       "      <td>40.0</td>\n",
       "      <td>0.255814</td>\n",
       "      <td>0.255814</td>\n",
       "      <td>0.255814</td>\n",
       "      <td>0.265489</td>\n",
       "      <td>12.844651</td>\n",
       "      <td>0.255814</td>\n",
       "      <td>0.056160</td>\n",
       "    </tr>\n",
       "    <tr>\n",
       "      <th>SVM linear balanced</th>\n",
       "      <td>500.0</td>\n",
       "      <td>40.0</td>\n",
       "      <td>0.252093</td>\n",
       "      <td>0.252093</td>\n",
       "      <td>0.252093</td>\n",
       "      <td>0.258891</td>\n",
       "      <td>13.188837</td>\n",
       "      <td>0.252093</td>\n",
       "      <td>0.058580</td>\n",
       "    </tr>\n",
       "    <tr>\n",
       "      <th>SVM rbf</th>\n",
       "      <td>500.0</td>\n",
       "      <td>40.0</td>\n",
       "      <td>0.386977</td>\n",
       "      <td>0.386977</td>\n",
       "      <td>0.386977</td>\n",
       "      <td>0.401542</td>\n",
       "      <td>10.785116</td>\n",
       "      <td>0.386977</td>\n",
       "      <td>0.022360</td>\n",
       "    </tr>\n",
       "    <tr>\n",
       "      <th>SVM rbf balanced</th>\n",
       "      <td>500.0</td>\n",
       "      <td>40.0</td>\n",
       "      <td>0.405581</td>\n",
       "      <td>0.405581</td>\n",
       "      <td>0.405581</td>\n",
       "      <td>0.411266</td>\n",
       "      <td>10.680000</td>\n",
       "      <td>0.405581</td>\n",
       "      <td>0.022917</td>\n",
       "    </tr>\n",
       "    <tr>\n",
       "      <th>Tree</th>\n",
       "      <td>500.0</td>\n",
       "      <td>40.0</td>\n",
       "      <td>0.253023</td>\n",
       "      <td>0.253023</td>\n",
       "      <td>0.253023</td>\n",
       "      <td>0.262993</td>\n",
       "      <td>13.264186</td>\n",
       "      <td>0.253023</td>\n",
       "      <td>0.030954</td>\n",
       "    </tr>\n",
       "    <tr>\n",
       "      <th rowspan=\"13\" valign=\"top\">MNIST-1D 0.75|0.25</th>\n",
       "      <th>KPGMC exp</th>\n",
       "      <td>466.0</td>\n",
       "      <td>40.0</td>\n",
       "      <td>0.964000</td>\n",
       "      <td>1.000000</td>\n",
       "      <td>0.854909</td>\n",
       "      <td>0.927455</td>\n",
       "      <td>0.036000</td>\n",
       "      <td>0.921079</td>\n",
       "      <td>0.592958</td>\n",
       "    </tr>\n",
       "    <tr>\n",
       "      <th>KPGMC gauss</th>\n",
       "      <td>466.0</td>\n",
       "      <td>40.0</td>\n",
       "      <td>0.936000</td>\n",
       "      <td>0.864848</td>\n",
       "      <td>0.881742</td>\n",
       "      <td>0.917486</td>\n",
       "      <td>0.064000</td>\n",
       "      <td>0.872247</td>\n",
       "      <td>0.599058</td>\n",
       "    </tr>\n",
       "    <tr>\n",
       "      <th>KPGMC normal</th>\n",
       "      <td>466.0</td>\n",
       "      <td>40.0</td>\n",
       "      <td>0.861000</td>\n",
       "      <td>0.978333</td>\n",
       "      <td>0.448745</td>\n",
       "      <td>0.722368</td>\n",
       "      <td>0.139000</td>\n",
       "      <td>0.612251</td>\n",
       "      <td>0.417019</td>\n",
       "    </tr>\n",
       "    <tr>\n",
       "      <th>KPGMC normal copy</th>\n",
       "      <td>466.0</td>\n",
       "      <td>40.0</td>\n",
       "      <td>0.861000</td>\n",
       "      <td>0.978333</td>\n",
       "      <td>0.448745</td>\n",
       "      <td>0.722368</td>\n",
       "      <td>0.139000</td>\n",
       "      <td>0.612251</td>\n",
       "      <td>0.403908</td>\n",
       "    </tr>\n",
       "    <tr>\n",
       "      <th>KPGMC ortho</th>\n",
       "      <td>466.0</td>\n",
       "      <td>40.0</td>\n",
       "      <td>0.976000</td>\n",
       "      <td>0.991122</td>\n",
       "      <td>0.911194</td>\n",
       "      <td>0.954294</td>\n",
       "      <td>0.024000</td>\n",
       "      <td>0.948481</td>\n",
       "      <td>0.876384</td>\n",
       "    </tr>\n",
       "    <tr>\n",
       "      <th>KPGMC ortho one vs one</th>\n",
       "      <td>466.0</td>\n",
       "      <td>40.0</td>\n",
       "      <td>0.247000</td>\n",
       "      <td>0.247000</td>\n",
       "      <td>1.000000</td>\n",
       "      <td>0.500000</td>\n",
       "      <td>0.753000</td>\n",
       "      <td>0.395915</td>\n",
       "      <td>0.875206</td>\n",
       "    </tr>\n",
       "    <tr>\n",
       "      <th>KPGMC rbf</th>\n",
       "      <td>466.0</td>\n",
       "      <td>40.0</td>\n",
       "      <td>0.991000</td>\n",
       "      <td>1.000000</td>\n",
       "      <td>0.962973</td>\n",
       "      <td>0.981487</td>\n",
       "      <td>0.009000</td>\n",
       "      <td>0.981013</td>\n",
       "      <td>0.773228</td>\n",
       "    </tr>\n",
       "    <tr>\n",
       "      <th>KPGMC rbf auto</th>\n",
       "      <td>466.0</td>\n",
       "      <td>40.0</td>\n",
       "      <td>0.991000</td>\n",
       "      <td>1.000000</td>\n",
       "      <td>0.962973</td>\n",
       "      <td>0.981487</td>\n",
       "      <td>0.009000</td>\n",
       "      <td>0.981013</td>\n",
       "      <td>0.644781</td>\n",
       "    </tr>\n",
       "    <tr>\n",
       "      <th>SVM linear</th>\n",
       "      <td>466.0</td>\n",
       "      <td>40.0</td>\n",
       "      <td>0.980000</td>\n",
       "      <td>0.961243</td>\n",
       "      <td>0.960131</td>\n",
       "      <td>0.973352</td>\n",
       "      <td>0.020000</td>\n",
       "      <td>0.960424</td>\n",
       "      <td>0.003878</td>\n",
       "    </tr>\n",
       "    <tr>\n",
       "      <th>SVM linear balanced</th>\n",
       "      <td>466.0</td>\n",
       "      <td>40.0</td>\n",
       "      <td>0.985000</td>\n",
       "      <td>0.971705</td>\n",
       "      <td>0.967823</td>\n",
       "      <td>0.979264</td>\n",
       "      <td>0.015000</td>\n",
       "      <td>0.969619</td>\n",
       "      <td>0.003761</td>\n",
       "    </tr>\n",
       "    <tr>\n",
       "      <th>SVM rbf</th>\n",
       "      <td>466.0</td>\n",
       "      <td>40.0</td>\n",
       "      <td>0.996000</td>\n",
       "      <td>0.996226</td>\n",
       "      <td>0.988305</td>\n",
       "      <td>0.993472</td>\n",
       "      <td>0.004000</td>\n",
       "      <td>0.992226</td>\n",
       "      <td>0.002136</td>\n",
       "    </tr>\n",
       "    <tr>\n",
       "      <th>SVM rbf balanced</th>\n",
       "      <td>466.0</td>\n",
       "      <td>40.0</td>\n",
       "      <td>0.996000</td>\n",
       "      <td>0.996226</td>\n",
       "      <td>0.988305</td>\n",
       "      <td>0.993472</td>\n",
       "      <td>0.004000</td>\n",
       "      <td>0.992226</td>\n",
       "      <td>0.002294</td>\n",
       "    </tr>\n",
       "    <tr>\n",
       "      <th>Tree</th>\n",
       "      <td>466.0</td>\n",
       "      <td>40.0</td>\n",
       "      <td>0.919000</td>\n",
       "      <td>0.882672</td>\n",
       "      <td>0.780475</td>\n",
       "      <td>0.872879</td>\n",
       "      <td>0.081000</td>\n",
       "      <td>0.827910</td>\n",
       "      <td>0.013376</td>\n",
       "    </tr>\n",
       "    <tr>\n",
       "      <th rowspan=\"13\" valign=\"top\">MNIST-1D 0.9|0.1</th>\n",
       "      <th>KPGMC exp</th>\n",
       "      <td>388.0</td>\n",
       "      <td>40.0</td>\n",
       "      <td>0.976048</td>\n",
       "      <td>1.000000</td>\n",
       "      <td>0.769035</td>\n",
       "      <td>0.884518</td>\n",
       "      <td>0.023952</td>\n",
       "      <td>0.865602</td>\n",
       "      <td>0.498057</td>\n",
       "    </tr>\n",
       "    <tr>\n",
       "      <th>KPGMC gauss</th>\n",
       "      <td>388.0</td>\n",
       "      <td>40.0</td>\n",
       "      <td>0.938922</td>\n",
       "      <td>0.779524</td>\n",
       "      <td>0.595789</td>\n",
       "      <td>0.787388</td>\n",
       "      <td>0.061078</td>\n",
       "      <td>0.651920</td>\n",
       "      <td>0.459891</td>\n",
       "    </tr>\n",
       "    <tr>\n",
       "      <th>KPGMC normal</th>\n",
       "      <td>388.0</td>\n",
       "      <td>40.0</td>\n",
       "      <td>0.917365</td>\n",
       "      <td>0.900000</td>\n",
       "      <td>0.196579</td>\n",
       "      <td>0.596969</td>\n",
       "      <td>0.082635</td>\n",
       "      <td>0.320156</td>\n",
       "      <td>0.272415</td>\n",
       "    </tr>\n",
       "    <tr>\n",
       "      <th>KPGMC normal copy</th>\n",
       "      <td>388.0</td>\n",
       "      <td>40.0</td>\n",
       "      <td>0.917365</td>\n",
       "      <td>0.900000</td>\n",
       "      <td>0.196579</td>\n",
       "      <td>0.596969</td>\n",
       "      <td>0.082635</td>\n",
       "      <td>0.320156</td>\n",
       "      <td>0.281575</td>\n",
       "    </tr>\n",
       "    <tr>\n",
       "      <th>KPGMC ortho</th>\n",
       "      <td>388.0</td>\n",
       "      <td>40.0</td>\n",
       "      <td>0.974850</td>\n",
       "      <td>0.910985</td>\n",
       "      <td>0.832061</td>\n",
       "      <td>0.911372</td>\n",
       "      <td>0.025150</td>\n",
       "      <td>0.869026</td>\n",
       "      <td>0.615189</td>\n",
       "    </tr>\n",
       "    <tr>\n",
       "      <th>KPGMC ortho one vs one</th>\n",
       "      <td>388.0</td>\n",
       "      <td>40.0</td>\n",
       "      <td>0.099401</td>\n",
       "      <td>0.099401</td>\n",
       "      <td>1.000000</td>\n",
       "      <td>0.500000</td>\n",
       "      <td>0.900599</td>\n",
       "      <td>0.180402</td>\n",
       "      <td>0.644747</td>\n",
       "    </tr>\n",
       "    <tr>\n",
       "      <th>KPGMC rbf</th>\n",
       "      <td>388.0</td>\n",
       "      <td>40.0</td>\n",
       "      <td>0.990419</td>\n",
       "      <td>1.000000</td>\n",
       "      <td>0.907281</td>\n",
       "      <td>0.953640</td>\n",
       "      <td>0.009581</td>\n",
       "      <td>0.951074</td>\n",
       "      <td>0.596256</td>\n",
       "    </tr>\n",
       "    <tr>\n",
       "      <th>KPGMC rbf auto</th>\n",
       "      <td>388.0</td>\n",
       "      <td>40.0</td>\n",
       "      <td>0.990419</td>\n",
       "      <td>1.000000</td>\n",
       "      <td>0.907281</td>\n",
       "      <td>0.953640</td>\n",
       "      <td>0.009581</td>\n",
       "      <td>0.951074</td>\n",
       "      <td>0.500916</td>\n",
       "    </tr>\n",
       "    <tr>\n",
       "      <th>SVM linear</th>\n",
       "      <td>388.0</td>\n",
       "      <td>40.0</td>\n",
       "      <td>0.972455</td>\n",
       "      <td>0.892542</td>\n",
       "      <td>0.828509</td>\n",
       "      <td>0.909011</td>\n",
       "      <td>0.027545</td>\n",
       "      <td>0.852169</td>\n",
       "      <td>0.002782</td>\n",
       "    </tr>\n",
       "    <tr>\n",
       "      <th>SVM linear balanced</th>\n",
       "      <td>388.0</td>\n",
       "      <td>40.0</td>\n",
       "      <td>0.974850</td>\n",
       "      <td>0.897304</td>\n",
       "      <td>0.853728</td>\n",
       "      <td>0.921621</td>\n",
       "      <td>0.025150</td>\n",
       "      <td>0.868283</td>\n",
       "      <td>0.002776</td>\n",
       "    </tr>\n",
       "    <tr>\n",
       "      <th>SVM rbf</th>\n",
       "      <td>388.0</td>\n",
       "      <td>40.0</td>\n",
       "      <td>0.994012</td>\n",
       "      <td>1.000000</td>\n",
       "      <td>0.944474</td>\n",
       "      <td>0.972237</td>\n",
       "      <td>0.005988</td>\n",
       "      <td>0.971165</td>\n",
       "      <td>0.001468</td>\n",
       "    </tr>\n",
       "    <tr>\n",
       "      <th>SVM rbf balanced</th>\n",
       "      <td>388.0</td>\n",
       "      <td>40.0</td>\n",
       "      <td>0.996407</td>\n",
       "      <td>0.988235</td>\n",
       "      <td>0.979474</td>\n",
       "      <td>0.989075</td>\n",
       "      <td>0.003593</td>\n",
       "      <td>0.983406</td>\n",
       "      <td>0.001665</td>\n",
       "    </tr>\n",
       "    <tr>\n",
       "      <th>Tree</th>\n",
       "      <td>388.0</td>\n",
       "      <td>40.0</td>\n",
       "      <td>0.935329</td>\n",
       "      <td>0.704551</td>\n",
       "      <td>0.607675</td>\n",
       "      <td>0.789824</td>\n",
       "      <td>0.064671</td>\n",
       "      <td>0.651428</td>\n",
       "      <td>0.012795</td>\n",
       "    </tr>\n",
       "  </tbody>\n",
       "</table>\n",
       "</div>"
      ],
      "text/plain": [
       "                                            size  features       acc  \\\n",
       "data               clf                                                 \n",
       "MNIST-1D 0.5|0.5   KPGMC exp               500.0      40.0  0.381395   \n",
       "                   KPGMC gauss             500.0      40.0  0.259535   \n",
       "                   KPGMC normal            500.0      40.0  0.223256   \n",
       "                   KPGMC normal copy       500.0      40.0  0.223256   \n",
       "                   KPGMC ortho             500.0      40.0  0.297674   \n",
       "                   KPGMC ortho one vs one  500.0      40.0  0.325581   \n",
       "                   KPGMC rbf               500.0      40.0  0.399070   \n",
       "                   KPGMC rbf auto          500.0      40.0  0.399070   \n",
       "                   SVM linear              500.0      40.0  0.255814   \n",
       "                   SVM linear balanced     500.0      40.0  0.252093   \n",
       "                   SVM rbf                 500.0      40.0  0.386977   \n",
       "                   SVM rbf balanced        500.0      40.0  0.405581   \n",
       "                   Tree                    500.0      40.0  0.253023   \n",
       "MNIST-1D 0.75|0.25 KPGMC exp               466.0      40.0  0.964000   \n",
       "                   KPGMC gauss             466.0      40.0  0.936000   \n",
       "                   KPGMC normal            466.0      40.0  0.861000   \n",
       "                   KPGMC normal copy       466.0      40.0  0.861000   \n",
       "                   KPGMC ortho             466.0      40.0  0.976000   \n",
       "                   KPGMC ortho one vs one  466.0      40.0  0.247000   \n",
       "                   KPGMC rbf               466.0      40.0  0.991000   \n",
       "                   KPGMC rbf auto          466.0      40.0  0.991000   \n",
       "                   SVM linear              466.0      40.0  0.980000   \n",
       "                   SVM linear balanced     466.0      40.0  0.985000   \n",
       "                   SVM rbf                 466.0      40.0  0.996000   \n",
       "                   SVM rbf balanced        466.0      40.0  0.996000   \n",
       "                   Tree                    466.0      40.0  0.919000   \n",
       "MNIST-1D 0.9|0.1   KPGMC exp               388.0      40.0  0.976048   \n",
       "                   KPGMC gauss             388.0      40.0  0.938922   \n",
       "                   KPGMC normal            388.0      40.0  0.917365   \n",
       "                   KPGMC normal copy       388.0      40.0  0.917365   \n",
       "                   KPGMC ortho             388.0      40.0  0.974850   \n",
       "                   KPGMC ortho one vs one  388.0      40.0  0.099401   \n",
       "                   KPGMC rbf               388.0      40.0  0.990419   \n",
       "                   KPGMC rbf auto          388.0      40.0  0.990419   \n",
       "                   SVM linear              388.0      40.0  0.972455   \n",
       "                   SVM linear balanced     388.0      40.0  0.974850   \n",
       "                   SVM rbf                 388.0      40.0  0.994012   \n",
       "                   SVM rbf balanced        388.0      40.0  0.996407   \n",
       "                   Tree                    388.0      40.0  0.935329   \n",
       "\n",
       "                                           precision    recall        ba  \\\n",
       "data               clf                                                     \n",
       "MNIST-1D 0.5|0.5   KPGMC exp                0.381395  0.381395  0.379253   \n",
       "                   KPGMC gauss              0.259535  0.259535  0.261646   \n",
       "                   KPGMC normal             0.223256  0.223256  0.219815   \n",
       "                   KPGMC normal copy        0.223256  0.223256  0.219815   \n",
       "                   KPGMC ortho              0.297674  0.297674  0.308966   \n",
       "                   KPGMC ortho one vs one   0.325581  0.325581  0.323673   \n",
       "                   KPGMC rbf                0.399070  0.399070  0.406039   \n",
       "                   KPGMC rbf auto           0.399070  0.399070  0.406039   \n",
       "                   SVM linear               0.255814  0.255814  0.265489   \n",
       "                   SVM linear balanced      0.252093  0.252093  0.258891   \n",
       "                   SVM rbf                  0.386977  0.386977  0.401542   \n",
       "                   SVM rbf balanced         0.405581  0.405581  0.411266   \n",
       "                   Tree                     0.253023  0.253023  0.262993   \n",
       "MNIST-1D 0.75|0.25 KPGMC exp                1.000000  0.854909  0.927455   \n",
       "                   KPGMC gauss              0.864848  0.881742  0.917486   \n",
       "                   KPGMC normal             0.978333  0.448745  0.722368   \n",
       "                   KPGMC normal copy        0.978333  0.448745  0.722368   \n",
       "                   KPGMC ortho              0.991122  0.911194  0.954294   \n",
       "                   KPGMC ortho one vs one   0.247000  1.000000  0.500000   \n",
       "                   KPGMC rbf                1.000000  0.962973  0.981487   \n",
       "                   KPGMC rbf auto           1.000000  0.962973  0.981487   \n",
       "                   SVM linear               0.961243  0.960131  0.973352   \n",
       "                   SVM linear balanced      0.971705  0.967823  0.979264   \n",
       "                   SVM rbf                  0.996226  0.988305  0.993472   \n",
       "                   SVM rbf balanced         0.996226  0.988305  0.993472   \n",
       "                   Tree                     0.882672  0.780475  0.872879   \n",
       "MNIST-1D 0.9|0.1   KPGMC exp                1.000000  0.769035  0.884518   \n",
       "                   KPGMC gauss              0.779524  0.595789  0.787388   \n",
       "                   KPGMC normal             0.900000  0.196579  0.596969   \n",
       "                   KPGMC normal copy        0.900000  0.196579  0.596969   \n",
       "                   KPGMC ortho              0.910985  0.832061  0.911372   \n",
       "                   KPGMC ortho one vs one   0.099401  1.000000  0.500000   \n",
       "                   KPGMC rbf                1.000000  0.907281  0.953640   \n",
       "                   KPGMC rbf auto           1.000000  0.907281  0.953640   \n",
       "                   SVM linear               0.892542  0.828509  0.909011   \n",
       "                   SVM linear balanced      0.897304  0.853728  0.921621   \n",
       "                   SVM rbf                  1.000000  0.944474  0.972237   \n",
       "                   SVM rbf balanced         0.988235  0.979474  0.989075   \n",
       "                   Tree                     0.704551  0.607675  0.789824   \n",
       "\n",
       "                                                 mse        f1      time  \n",
       "data               clf                                                    \n",
       "MNIST-1D 0.5|0.5   KPGMC exp               11.438140  0.381395  1.060269  \n",
       "                   KPGMC gauss             15.560000  0.259535  1.479728  \n",
       "                   KPGMC normal            16.151628  0.223256  0.598350  \n",
       "                   KPGMC normal copy       16.151628  0.223256  0.570817  \n",
       "                   KPGMC ortho             10.979535  0.297674  3.570996  \n",
       "                   KPGMC ortho one vs one  11.049302  0.325581  7.441069  \n",
       "                   KPGMC rbf               10.299535  0.399070  1.347480  \n",
       "                   KPGMC rbf auto          10.299535  0.399070  0.818585  \n",
       "                   SVM linear              12.844651  0.255814  0.056160  \n",
       "                   SVM linear balanced     13.188837  0.252093  0.058580  \n",
       "                   SVM rbf                 10.785116  0.386977  0.022360  \n",
       "                   SVM rbf balanced        10.680000  0.405581  0.022917  \n",
       "                   Tree                    13.264186  0.253023  0.030954  \n",
       "MNIST-1D 0.75|0.25 KPGMC exp                0.036000  0.921079  0.592958  \n",
       "                   KPGMC gauss              0.064000  0.872247  0.599058  \n",
       "                   KPGMC normal             0.139000  0.612251  0.417019  \n",
       "                   KPGMC normal copy        0.139000  0.612251  0.403908  \n",
       "                   KPGMC ortho              0.024000  0.948481  0.876384  \n",
       "                   KPGMC ortho one vs one   0.753000  0.395915  0.875206  \n",
       "                   KPGMC rbf                0.009000  0.981013  0.773228  \n",
       "                   KPGMC rbf auto           0.009000  0.981013  0.644781  \n",
       "                   SVM linear               0.020000  0.960424  0.003878  \n",
       "                   SVM linear balanced      0.015000  0.969619  0.003761  \n",
       "                   SVM rbf                  0.004000  0.992226  0.002136  \n",
       "                   SVM rbf balanced         0.004000  0.992226  0.002294  \n",
       "                   Tree                     0.081000  0.827910  0.013376  \n",
       "MNIST-1D 0.9|0.1   KPGMC exp                0.023952  0.865602  0.498057  \n",
       "                   KPGMC gauss              0.061078  0.651920  0.459891  \n",
       "                   KPGMC normal             0.082635  0.320156  0.272415  \n",
       "                   KPGMC normal copy        0.082635  0.320156  0.281575  \n",
       "                   KPGMC ortho              0.025150  0.869026  0.615189  \n",
       "                   KPGMC ortho one vs one   0.900599  0.180402  0.644747  \n",
       "                   KPGMC rbf                0.009581  0.951074  0.596256  \n",
       "                   KPGMC rbf auto           0.009581  0.951074  0.500916  \n",
       "                   SVM linear               0.027545  0.852169  0.002782  \n",
       "                   SVM linear balanced      0.025150  0.868283  0.002776  \n",
       "                   SVM rbf                  0.005988  0.971165  0.001468  \n",
       "                   SVM rbf balanced         0.003593  0.983406  0.001665  \n",
       "                   Tree                     0.064671  0.651428  0.012795  "
      ]
     },
     "execution_count": 8,
     "metadata": {},
     "output_type": "execute_result"
    }
   ],
   "source": [
    "data.groupby([\"data\",\"clf\"]).mean(numeric_only=False)"
   ]
  },
  {
   "cell_type": "code",
   "execution_count": null,
   "id": "538471e5-16cf-4b65-8e2a-079277d2a4e9",
   "metadata": {},
   "outputs": [],
   "source": []
  }
 ],
 "metadata": {
  "kernelspec": {
   "display_name": "Python 3 (ipykernel)",
   "language": "python",
   "name": "python3"
  },
  "language_info": {
   "codemirror_mode": {
    "name": "ipython",
    "version": 3
   },
   "file_extension": ".py",
   "mimetype": "text/x-python",
   "name": "python",
   "nbconvert_exporter": "python",
   "pygments_lexer": "ipython3",
   "version": "3.10.12"
  }
 },
 "nbformat": 4,
 "nbformat_minor": 5
}
