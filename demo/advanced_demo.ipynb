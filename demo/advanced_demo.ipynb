{
 "cells": [
  {
   "cell_type": "code",
   "execution_count": 1,
   "id": "7bfe13ff-c143-4983-8069-833e0a4acd76",
   "metadata": {},
   "outputs": [],
   "source": [
    "# Maths and data management\n",
    "import math\n",
    "from math import pi\n",
    "import numpy as np\n",
    "import scipy as sp\n",
    "import pandas as pd\n",
    "from numba import jit\n",
    "import pickle\n",
    "import time\n",
    "from tqdm.auto import tqdm\n",
    "\n",
    "# PGMC\n",
    "from pgmc import KPGMC, PGMC\n",
    "\n",
    "# Plotting packages\n",
    "import matplotlib.pyplot as plt\n",
    "import seaborn as sns\n",
    "# Plotting configuration\n",
    "%matplotlib inline\n",
    "sns.set()\n",
    "sns.set_context(\"poster\")\n",
    "sns.set_style(\"ticks\")\n",
    "\n",
    "# ML toolkit\n",
    "import sklearn as sk\n",
    "from sklearn.model_selection import train_test_split\n",
    "from sklearn.svm import SVC\n",
    "from sklearn.svm import LinearSVC\n",
    "from sklearn.decomposition import PCA\n",
    "from sklearn.tree import DecisionTreeClassifier\n",
    "from sklearn import datasets\n",
    "from sklearn.multiclass import OneVsOneClassifier,OneVsRestClassifier"
   ]
  },
  {
   "cell_type": "markdown",
   "id": "b646d568-8c7e-470e-915b-db34a09eb1ed",
   "metadata": {},
   "source": [
    "# Datasets"
   ]
  },
  {
   "cell_type": "code",
   "execution_count": 2,
   "id": "39d5492f-02d4-4316-999f-f0e35464efcb",
   "metadata": {},
   "outputs": [],
   "source": [
    "def get_iris():\n",
    "    \"\"\"\n",
    "    Load Iris with some restrictions.\n",
    "    \"\"\"\n",
    "    iris = datasets.load_iris()\n",
    "    X_ = iris.data[:,:2]\n",
    "    Y_ = iris.target\n",
    "    X = np.array([X_[i]+np.array([0,3.3]) for i in range(len(X_)) if Y_[i] != 2])\n",
    "    y = np.array([1 if i==0 else 0 for i in Y_ if i != 2])\n",
    "    size_max = max([np.sqrt(sum(x**2)) for x in X])\n",
    "    X = np.array([[i/size_max for i in x] for x in X],dtype=complex)\n",
    "    \n",
    "    u = sum(X)/len(X)\n",
    "    X = X-u + np.array([0.013,0.])\n",
    "    return X,y\n",
    "\n",
    "def get_mnist(features=5, nb_classes=2, path=\"mnist.pkl\"):\n",
    "    \"\"\"\n",
    "    Load MNIST, eliminate some classes and apply pca.\n",
    "    \"\"\"\n",
    "    pca = PCA(n_components=features)\n",
    "    (X,y) = pickle.load(open(path,\"rb\"))\n",
    "    X = np.array([X[i] for i in range(len(X)) if y[i] in list(range(nb_classes))])\n",
    "    y = np.array([y[i] for i in range(len(y)) if y[i] in list(range(nb_classes))])\n",
    "    if len(X[0]) > features:\n",
    "        X = pca.fit_transform(X)\n",
    "    return X,y"
   ]
  },
  {
   "cell_type": "markdown",
   "id": "2f94b0d1-1cc9-43e2-81ba-5d6a3a46033c",
   "metadata": {},
   "source": [
    "# Tools"
   ]
  },
  {
   "cell_type": "code",
   "execution_count": 3,
   "id": "be5f9417-8e12-44e8-9cf7-c3649b623784",
   "metadata": {},
   "outputs": [],
   "source": [
    "def metrics(y_true,y_pred,average=\"binary\",silent=False):\n",
    "    \"\"\"\n",
    "    Compute and return a lot of metrics given prediction and ground truths.\n",
    "    \"\"\"\n",
    "    if len(list(set(y_pred))) > 2 and average == \"binary\":\n",
    "        average = \"micro\"\n",
    "    accuracy = sk.metrics.accuracy_score(y_true,y_pred)\n",
    "    precision = sk.metrics.precision_score(y_true,y_pred,average=average,zero_division=0)\n",
    "    recall = sk.metrics.recall_score(y_true,y_pred,average=average,zero_division=0)\n",
    "    ba = sk.metrics.balanced_accuracy_score(y_true, y_pred)\n",
    "    mse = sk.metrics.mean_squared_error(y_true, y_pred)\n",
    "    confusion = sk.metrics.confusion_matrix(y_true,y_pred)\n",
    "    fmeas = sk.metrics.f1_score(y_true,y_pred,average=average,zero_division=0)\n",
    "    if not silent:\n",
    "        print(\"Accuracy : \",accuracy)\n",
    "        print(\"Precision : \",precision)\n",
    "        print(\"Recall : \",recall)\n",
    "        print(\"BA : \",ba)\n",
    "        print(\"MSE : \",mse)\n",
    "        print(\"F-measure : \",fmeas)\n",
    "        print(\"Confusion matrix : \\n\",confusion)\n",
    "    return [accuracy,precision,recall,ba,mse,fmeas,confusion]\n",
    "\n",
    "\n",
    "def imbalance(X,y,ratio):\n",
    "    \"\"\"\n",
    "    Articificially imbalance a dataset.\n",
    "    \"\"\"\n",
    "    X0 = np.array([[X[i],y[i]] for i in range(len(y)) if y[i] == 0],dtype=object)\n",
    "    X1 = np.array([[X[i],y[i]] for i in range(len(y)) if y[i] == 1],dtype=object)\n",
    "    current = len(X1)/(len(X0)+len(X1))\n",
    "    if current > ratio:\n",
    "        desired_len = int(len(X0)*ratio/(1-ratio))\n",
    "        c1 = np.random.choice(list(range(len(X1))),desired_len,replace=False)\n",
    "        X1 = X1[c1]\n",
    "    else:\n",
    "        desired_len = int(len(X1)*(1-ratio)/ratio)\n",
    "        c0 = np.random.choice(list(range(len(X0))),desired_len,replace=False)\n",
    "        X0 = X0[c0]\n",
    "    data = np.concatenate([X0,X1])\n",
    "    X_ = np.array(list(data[:,0]))\n",
    "    y_ = np.array(list(data[:,1]))\n",
    "    return X_,y_"
   ]
  },
  {
   "cell_type": "markdown",
   "id": "ae4016c6-52f4-48d8-9607-34434589b683",
   "metadata": {},
   "source": [
    "# Task manager\n",
    "The task manager will run all the classifier provided on all the datasets provided with k-fold cross validation."
   ]
  },
  {
   "cell_type": "code",
   "execution_count": 4,
   "id": "c0f015fd-f36f-435e-98be-6bdd5046192e",
   "metadata": {},
   "outputs": [],
   "source": [
    "class Task:\n",
    "    def __init__(self, repeat=5):\n",
    "        self.datasets = []\n",
    "        self.clf = []\n",
    "        self.repeat=repeat\n",
    "\n",
    "    def todo(self):\n",
    "        ret = []\n",
    "        for data_name,X,y in self.datasets:\n",
    "            for name_clf,clf in self.clf:\n",
    "                ret.append([data_name,X,y,name_clf,clf,self.repeat])\n",
    "        return ret\n",
    "\n",
    "    def add_data(self,name,X,y):\n",
    "        self.datasets.append((name,X,y))\n",
    "\n",
    "    def add_clf(self,name,clf):\n",
    "        self.clf.append((name,clf))\n",
    "\n",
    "    def run_aux(self,clf,X_train,y_train,X_test,y_test):\n",
    "        T = time.time()\n",
    "        clf.fit(X_train,y_train)\n",
    "        T = time.time() - T\n",
    "        y_pred = clf.predict(X_test)\n",
    "        l = metrics(y_test,y_pred,silent=True,average=\"binary\" if len(set(y_test))==2 else \"micro\")\n",
    "        return [len(y_train),len(X_train[0])]+l[0:6]+[T]\n",
    "\n",
    "    def run(self):\n",
    "        res = []\n",
    "        for name_data,X,y,name_clf,clf,repeat in tqdm(self.todo()):\n",
    "                rs = sk.model_selection.ShuffleSplit(n_splits=repeat, test_size=0.3, random_state=0)\n",
    "                for i, (train_index, test_index) in tqdm(enumerate(rs.split(X)),total=repeat,desc=f\"{repeat}-fold CrossValidation of {name_clf} on {name_data}\",leave=False):\n",
    "                    res.append(self.run_aux(clf(),X[train_index],y[train_index],X[test_index],y[test_index])+[name_clf,name_data])\n",
    "        return pd.DataFrame(res,columns=[\"size\",\"features\",\"acc\",\"precision\",\"recall\",\"ba\",\"mse\",\"f1\",\"time\",\"clf\",\"data\"])"
   ]
  },
  {
   "cell_type": "markdown",
   "id": "9125e6cd-fa5b-44d7-baa5-84bd177eaf2d",
   "metadata": {},
   "source": [
    "# Example 1 : Running KPGMC with RBF kernel on MNIST-1D\n",
    "Here we make the classification on MNIST-1D with a rbf kernel. There is three variants : \n",
    "    + one that uses normalization embedding\n",
    "    + one that uses orthogonal embedding\n",
    "    + one that uses normalization embedding and a one vs one strategy for the multi-class classification"
   ]
  },
  {
   "cell_type": "code",
   "execution_count": 5,
   "id": "56d061f8-385f-4fda-9a0b-c036f9554778",
   "metadata": {},
   "outputs": [
    {
     "data": {
      "application/vnd.jupyter.widget-view+json": {
       "model_id": "42db3d834a5344a4933d3022fea884a4",
       "version_major": 2,
       "version_minor": 0
      },
      "text/plain": [
       "  0%|          | 0/3 [00:00<?, ?it/s]"
      ]
     },
     "metadata": {},
     "output_type": "display_data"
    },
    {
     "data": {
      "application/vnd.jupyter.widget-view+json": {
       "model_id": "",
       "version_major": 2,
       "version_minor": 0
      },
      "text/plain": [
       "5-fold CrossValidation of KPGMC rbf on MNIST-1D 0.5|0.5:   0%|          | 0/5 [00:00<?, ?it/s]"
      ]
     },
     "metadata": {},
     "output_type": "display_data"
    },
    {
     "data": {
      "application/vnd.jupyter.widget-view+json": {
       "model_id": "",
       "version_major": 2,
       "version_minor": 0
      },
      "text/plain": [
       "5-fold CrossValidation of KPGMC rbf one vs one on MNIST-1D 0.5|0.5:   0%|          | 0/5 [00:00<?, ?it/s]"
      ]
     },
     "metadata": {},
     "output_type": "display_data"
    },
    {
     "data": {
      "application/vnd.jupyter.widget-view+json": {
       "model_id": "",
       "version_major": 2,
       "version_minor": 0
      },
      "text/plain": [
       "5-fold CrossValidation of KPGMC rbf orthogonal on MNIST-1D 0.5|0.5:   0%|          | 0/5 [00:00<?, ?it/s]"
      ]
     },
     "metadata": {},
     "output_type": "display_data"
    }
   ],
   "source": [
    "@jit\n",
    "def rbf_kernel(x,y):\n",
    "    return np.exp(-np.linalg.norm(x-y)**2)\n",
    "\n",
    "task = Task(repeat=5) # 5-fold crossvalidation\n",
    "\n",
    "## DATASETS\n",
    "X,y = get_mnist(40,10,path=\"../mnist1d.pkl\")\n",
    "X,y = X[::10],y[::10]\n",
    "task.add_data(\"MNIST-1D 0.5|0.5\",X,y)\n",
    "\n",
    "## CLASSIFIERS\n",
    "task.add_clf(\"KPGMC rbf\",lambda :KPGMC(kernel=rbf_kernel,class_weight_method=\"optimize\"))\n",
    "task.add_clf(\"KPGMC rbf one vs one\",lambda :OneVsOneClassifier(KPGMC(kernel=rbf_kernel,class_weight_method=\"optimize\")))\n",
    "task.add_clf(\"KPGMC rbf orthogonal\",lambda :KPGMC(kernel=rbf_kernel,embedding=\"orthogonal\",class_weight_method=\"optimize\"))\n",
    "\n",
    "data_small = task.run()"
   ]
  },
  {
   "cell_type": "code",
   "execution_count": 6,
   "id": "0edea892-d960-4956-a37e-0dceaacd06c8",
   "metadata": {},
   "outputs": [
    {
     "data": {
      "text/html": [
       "<div>\n",
       "<style scoped>\n",
       "    .dataframe tbody tr th:only-of-type {\n",
       "        vertical-align: middle;\n",
       "    }\n",
       "\n",
       "    .dataframe tbody tr th {\n",
       "        vertical-align: top;\n",
       "    }\n",
       "\n",
       "    .dataframe thead th {\n",
       "        text-align: right;\n",
       "    }\n",
       "</style>\n",
       "<table border=\"1\" class=\"dataframe\">\n",
       "  <thead>\n",
       "    <tr style=\"text-align: right;\">\n",
       "      <th></th>\n",
       "      <th></th>\n",
       "      <th>size</th>\n",
       "      <th>features</th>\n",
       "      <th>acc</th>\n",
       "      <th>precision</th>\n",
       "      <th>recall</th>\n",
       "      <th>ba</th>\n",
       "      <th>mse</th>\n",
       "      <th>f1</th>\n",
       "      <th>time</th>\n",
       "    </tr>\n",
       "    <tr>\n",
       "      <th>data</th>\n",
       "      <th>clf</th>\n",
       "      <th></th>\n",
       "      <th></th>\n",
       "      <th></th>\n",
       "      <th></th>\n",
       "      <th></th>\n",
       "      <th></th>\n",
       "      <th></th>\n",
       "      <th></th>\n",
       "      <th></th>\n",
       "    </tr>\n",
       "  </thead>\n",
       "  <tbody>\n",
       "    <tr>\n",
       "      <th rowspan=\"3\" valign=\"top\">MNIST-1D 0.5|0.5</th>\n",
       "      <th>KPGMC rbf</th>\n",
       "      <td>350.0</td>\n",
       "      <td>40.0</td>\n",
       "      <td>0.362667</td>\n",
       "      <td>0.362667</td>\n",
       "      <td>0.362667</td>\n",
       "      <td>0.358632</td>\n",
       "      <td>10.801333</td>\n",
       "      <td>0.362667</td>\n",
       "      <td>0.439384</td>\n",
       "    </tr>\n",
       "    <tr>\n",
       "      <th>KPGMC rbf one vs one</th>\n",
       "      <td>350.0</td>\n",
       "      <td>40.0</td>\n",
       "      <td>0.340000</td>\n",
       "      <td>0.340000</td>\n",
       "      <td>0.340000</td>\n",
       "      <td>0.338835</td>\n",
       "      <td>12.753333</td>\n",
       "      <td>0.340000</td>\n",
       "      <td>2.513760</td>\n",
       "    </tr>\n",
       "    <tr>\n",
       "      <th>KPGMC rbf orthogonal</th>\n",
       "      <td>350.0</td>\n",
       "      <td>40.0</td>\n",
       "      <td>0.346667</td>\n",
       "      <td>0.346667</td>\n",
       "      <td>0.346667</td>\n",
       "      <td>0.345198</td>\n",
       "      <td>11.088000</td>\n",
       "      <td>0.346667</td>\n",
       "      <td>0.544744</td>\n",
       "    </tr>\n",
       "  </tbody>\n",
       "</table>\n",
       "</div>"
      ],
      "text/plain": [
       "                                        size  features       acc  precision  \\\n",
       "data             clf                                                          \n",
       "MNIST-1D 0.5|0.5 KPGMC rbf             350.0      40.0  0.362667   0.362667   \n",
       "                 KPGMC rbf one vs one  350.0      40.0  0.340000   0.340000   \n",
       "                 KPGMC rbf orthogonal  350.0      40.0  0.346667   0.346667   \n",
       "\n",
       "                                         recall        ba        mse  \\\n",
       "data             clf                                                   \n",
       "MNIST-1D 0.5|0.5 KPGMC rbf             0.362667  0.358632  10.801333   \n",
       "                 KPGMC rbf one vs one  0.340000  0.338835  12.753333   \n",
       "                 KPGMC rbf orthogonal  0.346667  0.345198  11.088000   \n",
       "\n",
       "                                             f1      time  \n",
       "data             clf                                       \n",
       "MNIST-1D 0.5|0.5 KPGMC rbf             0.362667  0.439384  \n",
       "                 KPGMC rbf one vs one  0.340000  2.513760  \n",
       "                 KPGMC rbf orthogonal  0.346667  0.544744  "
      ]
     },
     "execution_count": 6,
     "metadata": {},
     "output_type": "execute_result"
    }
   ],
   "source": [
    "data_small.groupby([\"data\",\"clf\"]).mean(numeric_only=False)"
   ]
  },
  {
   "cell_type": "code",
   "execution_count": 7,
   "id": "d1223b11-2b27-4eed-8669-112fc695abf8",
   "metadata": {},
   "outputs": [
    {
     "ename": "NameError",
     "evalue": "name 'data' is not defined",
     "output_type": "error",
     "traceback": [
      "\u001b[0;31m---------------------------------------------------------------------------\u001b[0m",
      "\u001b[0;31mNameError\u001b[0m                                 Traceback (most recent call last)",
      "\u001b[0;32m/tmp/ipykernel_476360/1578678207.py\u001b[0m in \u001b[0;36m<module>\u001b[0;34m\u001b[0m\n\u001b[1;32m      1\u001b[0m \u001b[0mplt\u001b[0m\u001b[0;34m.\u001b[0m\u001b[0mfigure\u001b[0m\u001b[0;34m(\u001b[0m\u001b[0mfigsize\u001b[0m\u001b[0;34m=\u001b[0m\u001b[0;34m(\u001b[0m\u001b[0;36m60\u001b[0m\u001b[0;34m,\u001b[0m\u001b[0;36m6\u001b[0m\u001b[0;34m)\u001b[0m\u001b[0;34m)\u001b[0m\u001b[0;34m\u001b[0m\u001b[0;34m\u001b[0m\u001b[0m\n\u001b[1;32m      2\u001b[0m \u001b[0mplt\u001b[0m\u001b[0;34m.\u001b[0m\u001b[0msuptitle\u001b[0m\u001b[0;34m(\u001b[0m\u001b[0;34m'MNIST-1D 0.5|0.5'\u001b[0m\u001b[0;34m,\u001b[0m \u001b[0mfontsize\u001b[0m\u001b[0;34m=\u001b[0m\u001b[0;36m50\u001b[0m\u001b[0;34m)\u001b[0m\u001b[0;34m\u001b[0m\u001b[0;34m\u001b[0m\u001b[0m\n\u001b[0;32m----> 3\u001b[0;31m \u001b[0msns\u001b[0m\u001b[0;34m.\u001b[0m\u001b[0mbarplot\u001b[0m\u001b[0;34m(\u001b[0m\u001b[0mdata\u001b[0m\u001b[0;34m=\u001b[0m\u001b[0mdata\u001b[0m\u001b[0;34m[\u001b[0m\u001b[0mdata\u001b[0m\u001b[0;34m[\u001b[0m\u001b[0;34m\"data\"\u001b[0m\u001b[0;34m]\u001b[0m\u001b[0;34m==\u001b[0m\u001b[0;34m\"MNIST-1D 0.5|0.5\"\u001b[0m\u001b[0;34m]\u001b[0m\u001b[0;34m,\u001b[0m \u001b[0mx\u001b[0m\u001b[0;34m=\u001b[0m\u001b[0;34m\"clf\"\u001b[0m\u001b[0;34m,\u001b[0m \u001b[0my\u001b[0m\u001b[0;34m=\u001b[0m\u001b[0;34m\"acc\"\u001b[0m\u001b[0;34m)\u001b[0m\u001b[0;34m\u001b[0m\u001b[0;34m\u001b[0m\u001b[0m\n\u001b[0m",
      "\u001b[0;31mNameError\u001b[0m: name 'data' is not defined"
     ]
    },
    {
     "data": {
      "text/plain": [
       "<Figure size 4320x432 with 0 Axes>"
      ]
     },
     "metadata": {},
     "output_type": "display_data"
    }
   ],
   "source": [
    "plt.figure(figsize=(60,6))\n",
    "plt.suptitle('MNIST-1D 0.5|0.5', fontsize=50)\n",
    "sns.barplot(data=data[data[\"data\"]==\"MNIST-1D 0.5|0.5\"], x=\"clf\", y=\"acc\")"
   ]
  },
  {
   "cell_type": "markdown",
   "id": "f60753fd-225d-4eb9-9f4a-b7a59c8b2670",
   "metadata": {},
   "source": [
    "# Full classification task"
   ]
  },
  {
   "cell_type": "code",
   "execution_count": null,
   "id": "d374078d-d8c5-42e6-bc2c-9e83b0da7620",
   "metadata": {},
   "outputs": [],
   "source": [
    "@jit\n",
    "def rbf_kernel(x,y):\n",
    "    return np.exp(-np.linalg.norm(x-y)**2)\n",
    "\n",
    "@jit\n",
    "def exp_kernel(x,y):\n",
    "    return np.exp(((np.dot(x,y)+1)/2)*100)\n",
    "\n",
    "@jit\n",
    "def gauss_kernel(x,y):\n",
    "    return np.exp(np.dot(x,y)**2)\n",
    "\n",
    "\n",
    "\n",
    "task = Task(repeat=5)\n",
    "\n",
    "## DATASETS\n",
    "X,y = get_mnist(40,10,path=\"../mnist1d.pkl\")\n",
    "X,y = X[::7],y[::7]\n",
    "task.add_data(\"MNIST-1D 0.5|0.5\",X,y)\n",
    "\n",
    "X,y = imbalance(*get_mnist(40,2,path=\"../mnist1d.pkl\"),0.25) # i features 2 classes\n",
    "task.add_data(\"MNIST-1D 0.75|0.25\",X,y)\n",
    "\n",
    "X,y = imbalance(*get_mnist(40,2,path=\"../mnist1d.pkl\"),0.1) # i features 2 classes\n",
    "task.add_data(\"MNIST-1D 0.9|0.1\",X,y)\n",
    "\n",
    "## CLASSIFIERS\n",
    "task.add_clf(\"SVM linear\",lambda :SVC(kernel=\"linear\"))\n",
    "task.add_clf(\"SVM linear balanced\",lambda :SVC(kernel=\"linear\",class_weight=\"balanced\"))\n",
    "task.add_clf(\"SVM rbf\",lambda :SVC())\n",
    "task.add_clf(\"SVM rbf balanced\",lambda :SVC(class_weight=\"balanced\"))\n",
    "task.add_clf(\"Tree\",lambda :DecisionTreeClassifier())\n",
    "task.add_clf(\"KPGMC ortho\",lambda :KPGMC(embedding=\"orthogonal\",class_weight_method=\"optimize\"))\n",
    "task.add_clf(\"KPGMC ortho auto\",lambda :KPGMC(embedding=\"orthogonal\",class_weight_method=\"auto\"))\n",
    "task.add_clf(\"KPGMC ortho one vs one\",lambda :OneVsOneClassifier(KPGMC(embedding=\"orthogonal\",class_weight_method=\"optimize\")))\n",
    "task.add_clf(\"KPGMC exp\",lambda :KPGMC(kernel=exp_kernel, class_weight_method=\"optimize\"))\n",
    "task.add_clf(\"KPGMC gauss\",lambda :KPGMC(kernel=gauss_kernel,class_weight_method=\"optimize\"))\n",
    "task.add_clf(\"KPGMC rbf\",lambda :KPGMC(kernel=rbf_kernel,class_weight_method=\"optimize\"))\n",
    "task.add_clf(\"KPGMC rbf auto\",lambda :KPGMC(kernel=rbf_kernel,class_weight_method=\"auto\"))\n",
    "task.add_clf(\"PGMC normal\",lambda :PGMC(embedding=\"normal\",class_weight_method=\"auto\"))\n",
    "task.add_clf(\"PGMC ortho\",lambda :PGMC(embedding=\"orthogonal\",class_weight_method=\"auto\", device=\"cpu\"))\n",
    "task.add_clf(\"PGMC stereo\",lambda :PGMC(embedding=\"stereo\",class_weight_method=\"auto\"))\n",
    "task.add_clf(\"PGMC ortho one vs one\",lambda :OneVsOneClassifier(PGMC(embedding=\"orthogonal\",class_weight_method=\"auto\", device=\"cpu\")))\n",
    "\n",
    "data = task.run()"
   ]
  },
  {
   "cell_type": "code",
   "execution_count": null,
   "id": "f7685f95-a069-4c49-8af8-c1a0fb8eeed1",
   "metadata": {},
   "outputs": [],
   "source": [
    "data.groupby([\"data\",\"clf\"]).mean(numeric_only=False)"
   ]
  },
  {
   "cell_type": "code",
   "execution_count": null,
   "id": "538471e5-16cf-4b65-8e2a-079277d2a4e9",
   "metadata": {},
   "outputs": [],
   "source": [
    "for dataset in list(set(list(data[\"data\"]))):\n",
    "    plt.figure(figsize=(60,6))\n",
    "    plt.suptitle(f\"{dataset}\", fontsize=50)\n",
    "    sns.barplot(data=data[data[\"data\"]==dataset], x=\"clf\", y=\"ba\")"
   ]
  },
  {
   "cell_type": "code",
   "execution_count": null,
   "id": "707d4529-b16c-44de-9178-b2b85ab55d47",
   "metadata": {},
   "outputs": [],
   "source": []
  }
 ],
 "metadata": {
  "kernelspec": {
   "display_name": "Python 3 (ipykernel)",
   "language": "python",
   "name": "python3"
  },
  "language_info": {
   "codemirror_mode": {
    "name": "ipython",
    "version": 3
   },
   "file_extension": ".py",
   "mimetype": "text/x-python",
   "name": "python",
   "nbconvert_exporter": "python",
   "pygments_lexer": "ipython3",
   "version": "3.10.12"
  }
 },
 "nbformat": 4,
 "nbformat_minor": 5
}
