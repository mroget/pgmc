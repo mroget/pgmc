{
 "cells": [
  {
   "cell_type": "code",
   "execution_count": 10,
   "id": "7bfe13ff-c143-4983-8069-833e0a4acd76",
   "metadata": {},
   "outputs": [],
   "source": [
    "# Maths and data management\n",
    "import math\n",
    "from math import pi\n",
    "import numpy as np\n",
    "import scipy as sp\n",
    "import pandas as pd\n",
    "import pickle\n",
    "import time\n",
    "from tqdm.auto import tqdm\n",
    "\n",
    "# PGMC\n",
    "from pgmc import kpgmc\n",
    "\n",
    "# Plotting packages\n",
    "import matplotlib.pyplot as plt\n",
    "import seaborn as sns\n",
    "# Plotting configuration\n",
    "%matplotlib inline\n",
    "sns.set()\n",
    "sns.set_context(\"poster\")\n",
    "sns.set_style(\"ticks\")\n",
    "\n",
    "# ML toolkit\n",
    "import sklearn as sk\n",
    "from sklearn.model_selection import train_test_split\n",
    "from sklearn.svm import SVC\n",
    "from sklearn.svm import LinearSVC\n",
    "from sklearn.decomposition import PCA\n",
    "from sklearn.tree import DecisionTreeClassifier\n",
    "from sklearn import datasets\n",
    "from sklearn.multiclass import OneVsOneClassifier,OneVsRestClassifier"
   ]
  },
  {
   "cell_type": "markdown",
   "id": "b646d568-8c7e-470e-915b-db34a09eb1ed",
   "metadata": {},
   "source": [
    "# Datasets"
   ]
  },
  {
   "cell_type": "code",
   "execution_count": 3,
   "id": "39d5492f-02d4-4316-999f-f0e35464efcb",
   "metadata": {},
   "outputs": [],
   "source": [
    "def get_iris():\n",
    "    \"\"\"\n",
    "    Load Iris with some restrictions.\n",
    "    \"\"\"\n",
    "    iris = datasets.load_iris()\n",
    "    X_ = iris.data[:,:2]\n",
    "    Y_ = iris.target\n",
    "    X = np.array([X_[i]+np.array([0,3.3]) for i in range(len(X_)) if Y_[i] != 2])\n",
    "    y = np.array([1 if i==0 else 0 for i in Y_ if i != 2])\n",
    "    size_max = max([np.sqrt(sum(x**2)) for x in X])\n",
    "    X = np.array([[i/size_max for i in x] for x in X],dtype=complex)\n",
    "    \n",
    "    u = sum(X)/len(X)\n",
    "    X = X-u + np.array([0.013,0.])\n",
    "    return X,y\n",
    "\n",
    "def get_mnist(features=5, nb_classes=2, path=\"mnist.pkl\"):\n",
    "    \"\"\"\n",
    "    Load MNIST, eliminate some classes and apply pca.\n",
    "    \"\"\"\n",
    "    pca = PCA(n_components=features)\n",
    "    (X,y) = pickle.load(open(path,\"rb\"))\n",
    "    X = np.array([X[i] for i in range(len(X)) if y[i] in list(range(nb_classes))])\n",
    "    y = np.array([y[i] for i in range(len(y)) if y[i] in list(range(nb_classes))])\n",
    "    if len(X[0]) > features:\n",
    "        X = pca.fit_transform(X)\n",
    "    return X,y"
   ]
  },
  {
   "cell_type": "markdown",
   "id": "2f94b0d1-1cc9-43e2-81ba-5d6a3a46033c",
   "metadata": {},
   "source": [
    "# Tools"
   ]
  },
  {
   "cell_type": "code",
   "execution_count": 7,
   "id": "be5f9417-8e12-44e8-9cf7-c3649b623784",
   "metadata": {},
   "outputs": [],
   "source": [
    "def metrics(y_true,y_pred,average=\"binary\",silent=False):\n",
    "    \"\"\"\n",
    "    Compute and return a lot of metrics given prediction and ground truths.\n",
    "    \"\"\"\n",
    "    if len(list(set(y_pred))) > 2 and average == \"binary\":\n",
    "        average = \"micro\"\n",
    "    accuracy = sk.metrics.accuracy_score(y_true,y_pred)\n",
    "    precision = sk.metrics.precision_score(y_true,y_pred,average=average,zero_division=0)\n",
    "    recall = sk.metrics.recall_score(y_true,y_pred,average=average,zero_division=0)\n",
    "    ba = sk.metrics.balanced_accuracy_score(y_true, y_pred)\n",
    "    mse = sk.metrics.mean_squared_error(y_true, y_pred)\n",
    "    confusion = sk.metrics.confusion_matrix(y_true,y_pred)\n",
    "    fmeas = sk.metrics.f1_score(y_true,y_pred,average=average,zero_division=0)\n",
    "    if not silent:\n",
    "        print(\"Accuracy : \",accuracy)\n",
    "        print(\"Precision : \",precision)\n",
    "        print(\"Recall : \",recall)\n",
    "        print(\"BA : \",ba)\n",
    "        print(\"MSE : \",mse)\n",
    "        print(\"F-measure : \",fmeas)\n",
    "        print(\"Confusion matrix : \\n\",confusion)\n",
    "    return [accuracy,precision,recall,ba,mse,fmeas,confusion]\n",
    "\n",
    "\n",
    "def imbalance(X,y,ratio):\n",
    "    \"\"\"\n",
    "    Articificially imbalance a dataset.\n",
    "    \"\"\"\n",
    "    X0 = np.array([[X[i],y[i]] for i in range(len(y)) if y[i] == 0],dtype=object)\n",
    "    X1 = np.array([[X[i],y[i]] for i in range(len(y)) if y[i] == 1],dtype=object)\n",
    "    current = len(X1)/(len(X0)+len(X1))\n",
    "    if current > ratio:\n",
    "        desired_len = int(len(X0)*ratio/(1-ratio))\n",
    "        c1 = np.random.choice(list(range(len(X1))),desired_len,replace=False)\n",
    "        X1 = X1[c1]\n",
    "    else:\n",
    "        desired_len = int(len(X1)*(1-ratio)/ratio)\n",
    "        c0 = np.random.choice(list(range(len(X0))),desired_len,replace=False)\n",
    "        X0 = X0[c0]\n",
    "    data = np.concatenate([X0,X1])\n",
    "    X_ = np.array(list(data[:,0]))\n",
    "    y_ = np.array(list(data[:,1]))\n",
    "    return X_,y_"
   ]
  },
  {
   "cell_type": "markdown",
   "id": "ae4016c6-52f4-48d8-9607-34434589b683",
   "metadata": {},
   "source": [
    "# Task manager\n",
    "The task manager will run all the classifier provided on all the datasets provided with k-fold cross validation."
   ]
  },
  {
   "cell_type": "code",
   "execution_count": 4,
   "id": "c0f015fd-f36f-435e-98be-6bdd5046192e",
   "metadata": {},
   "outputs": [],
   "source": [
    "class Task:\n",
    "    def __init__(self, repeat=5):\n",
    "        self.datasets = []\n",
    "        self.clf = []\n",
    "        self.repeat=repeat\n",
    "\n",
    "    def todo(self):\n",
    "        ret = []\n",
    "        for data_name,X,y in self.datasets:\n",
    "            for name_clf,clf in self.clf:\n",
    "                ret.append([data_name,X,y,name_clf,clf,self.repeat])\n",
    "        return ret\n",
    "\n",
    "    def add_data(self,name,X,y):\n",
    "        self.datasets.append((name,X,y))\n",
    "\n",
    "    def add_clf(self,name,clf):\n",
    "        self.clf.append((name,clf))\n",
    "\n",
    "    def run_aux(self,clf,X_train,y_train,X_test,y_test):\n",
    "        T = time.time()\n",
    "        clf.fit(X_train,y_train)\n",
    "        T = time.time() - T\n",
    "        y_pred = clf.predict(X_test)\n",
    "        l = metrics(y_test,y_pred,silent=True,average=\"binary\" if len(set(y_test))==2 else \"micro\")\n",
    "        return [len(y_train),len(X_train[0])]+l[0:6]+[T]\n",
    "\n",
    "    def run(self):\n",
    "        res = []\n",
    "        for name_data,X,y,name_clf,clf,repeat in tqdm(self.todo()):\n",
    "                rs = sk.model_selection.ShuffleSplit(n_splits=repeat, test_size=0.3, random_state=0)\n",
    "                for i, (train_index, test_index) in tqdm(enumerate(rs.split(X)),total=repeat,desc=f\"{repeat}-fold CrossValidation of {name_clf} on {name_data}\",leave=False):\n",
    "                    res.append(self.run_aux(clf(),X[train_index],y[train_index],X[test_index],y[test_index])+[name_clf,name_data])\n",
    "        return pd.DataFrame(res,columns=[\"size\",\"features\",\"acc\",\"precision\",\"recall\",\"ba\",\"mse\",\"f1\",\"time\",\"clf\",\"data\"])"
   ]
  },
  {
   "cell_type": "markdown",
   "id": "9125e6cd-fa5b-44d7-baa5-84bd177eaf2d",
   "metadata": {},
   "source": [
    "# Example 1 : Running KPGMC with RBF kernel on MNIST-1D\n",
    "Here we make the classification on MNIST-1D with a rbf kernel. There is three variants : \n",
    "    + one that uses normalization embedding\n",
    "    + one that uses orthogonal embedding\n",
    "    + one that uses normalization embedding and a one vs one strategy for the multi-class classification"
   ]
  },
  {
   "cell_type": "code",
   "execution_count": 11,
   "id": "56d061f8-385f-4fda-9a0b-c036f9554778",
   "metadata": {},
   "outputs": [
    {
     "data": {
      "application/vnd.jupyter.widget-view+json": {
       "model_id": "1bfb55c38ec8457a980c4d157b0eee97",
       "version_major": 2,
       "version_minor": 0
      },
      "text/plain": [
       "  0%|          | 0/3 [00:00<?, ?it/s]"
      ]
     },
     "metadata": {},
     "output_type": "display_data"
    },
    {
     "data": {
      "application/vnd.jupyter.widget-view+json": {
       "model_id": "",
       "version_major": 2,
       "version_minor": 0
      },
      "text/plain": [
       "5-fold CrossValidation of KPGMC rbf on MNIST-1D 0.5|0.5:   0%|          | 0/5 [00:00<?, ?it/s]"
      ]
     },
     "metadata": {},
     "output_type": "display_data"
    },
    {
     "data": {
      "application/vnd.jupyter.widget-view+json": {
       "model_id": "",
       "version_major": 2,
       "version_minor": 0
      },
      "text/plain": [
       "5-fold CrossValidation of KPGMC rbf one vs one on MNIST-1D 0.5|0.5:   0%|          | 0/5 [00:00<?, ?it/s]"
      ]
     },
     "metadata": {},
     "output_type": "display_data"
    },
    {
     "data": {
      "application/vnd.jupyter.widget-view+json": {
       "model_id": "",
       "version_major": 2,
       "version_minor": 0
      },
      "text/plain": [
       "5-fold CrossValidation of KPGMC rbf orthogonal on MNIST-1D 0.5|0.5:   0%|          | 0/5 [00:00<?, ?it/s]"
      ]
     },
     "metadata": {},
     "output_type": "display_data"
    }
   ],
   "source": [
    "task = Task(repeat=5) # 5-fold crossvalidation\n",
    "\n",
    "## DATASETS\n",
    "X,y = get_mnist(40,10,path=\"mnist1d.pkl\")\n",
    "X,y = X[::10],y[::10]\n",
    "task.add_data(\"MNIST-1D 0.5|0.5\",X,y)\n",
    "\n",
    "## CLASSIFIERS\n",
    "task.add_clf(\"KPGMC rbf\",lambda :kpgmc.KPGMC(kernel=lambda x,y:np.exp(-np.linalg.norm(x-y)**2),class_weight=\"optimize\"))\n",
    "task.add_clf(\"KPGMC rbf one vs one\",lambda :OneVsOneClassifier(kpgmc.KPGMC(kernel=lambda x,y:np.exp(-np.linalg.norm(x-y)**2),class_weight=\"optimize\")))\n",
    "task.add_clf(\"KPGMC rbf orthogonal\",lambda :kpgmc.KPGMC(kernel=lambda x,y:np.exp(-np.linalg.norm(x-y)**2),embedding=\"orthogonal\",class_weight=\"optimize\"))\n",
    "\n",
    "data = task.run()"
   ]
  },
  {
   "cell_type": "code",
   "execution_count": 13,
   "id": "0edea892-d960-4956-a37e-0dceaacd06c8",
   "metadata": {},
   "outputs": [
    {
     "data": {
      "text/html": [
       "<div>\n",
       "<style scoped>\n",
       "    .dataframe tbody tr th:only-of-type {\n",
       "        vertical-align: middle;\n",
       "    }\n",
       "\n",
       "    .dataframe tbody tr th {\n",
       "        vertical-align: top;\n",
       "    }\n",
       "\n",
       "    .dataframe thead th {\n",
       "        text-align: right;\n",
       "    }\n",
       "</style>\n",
       "<table border=\"1\" class=\"dataframe\">\n",
       "  <thead>\n",
       "    <tr style=\"text-align: right;\">\n",
       "      <th></th>\n",
       "      <th></th>\n",
       "      <th>size</th>\n",
       "      <th>features</th>\n",
       "      <th>acc</th>\n",
       "      <th>precision</th>\n",
       "      <th>recall</th>\n",
       "      <th>ba</th>\n",
       "      <th>mse</th>\n",
       "      <th>f1</th>\n",
       "      <th>time</th>\n",
       "    </tr>\n",
       "    <tr>\n",
       "      <th>data</th>\n",
       "      <th>clf</th>\n",
       "      <th></th>\n",
       "      <th></th>\n",
       "      <th></th>\n",
       "      <th></th>\n",
       "      <th></th>\n",
       "      <th></th>\n",
       "      <th></th>\n",
       "      <th></th>\n",
       "      <th></th>\n",
       "    </tr>\n",
       "  </thead>\n",
       "  <tbody>\n",
       "    <tr>\n",
       "      <th rowspan=\"3\" valign=\"top\">MNIST-1D 0.5|0.5</th>\n",
       "      <th>KPGMC rbf</th>\n",
       "      <td>350.0</td>\n",
       "      <td>40.0</td>\n",
       "      <td>0.362667</td>\n",
       "      <td>0.362667</td>\n",
       "      <td>0.362667</td>\n",
       "      <td>0.358632</td>\n",
       "      <td>10.858667</td>\n",
       "      <td>0.362667</td>\n",
       "      <td>0.754961</td>\n",
       "    </tr>\n",
       "    <tr>\n",
       "      <th>KPGMC rbf one vs one</th>\n",
       "      <td>350.0</td>\n",
       "      <td>40.0</td>\n",
       "      <td>0.365333</td>\n",
       "      <td>0.365333</td>\n",
       "      <td>0.365333</td>\n",
       "      <td>0.371031</td>\n",
       "      <td>10.874667</td>\n",
       "      <td>0.365333</td>\n",
       "      <td>3.081364</td>\n",
       "    </tr>\n",
       "    <tr>\n",
       "      <th>KPGMC rbf orthogonal</th>\n",
       "      <td>350.0</td>\n",
       "      <td>40.0</td>\n",
       "      <td>0.349333</td>\n",
       "      <td>0.349333</td>\n",
       "      <td>0.349333</td>\n",
       "      <td>0.348268</td>\n",
       "      <td>11.056000</td>\n",
       "      <td>0.349333</td>\n",
       "      <td>0.788694</td>\n",
       "    </tr>\n",
       "  </tbody>\n",
       "</table>\n",
       "</div>"
      ],
      "text/plain": [
       "                                        size  features       acc  precision  \\\n",
       "data             clf                                                          \n",
       "MNIST-1D 0.5|0.5 KPGMC rbf             350.0      40.0  0.362667   0.362667   \n",
       "                 KPGMC rbf one vs one  350.0      40.0  0.365333   0.365333   \n",
       "                 KPGMC rbf orthogonal  350.0      40.0  0.349333   0.349333   \n",
       "\n",
       "                                         recall        ba        mse  \\\n",
       "data             clf                                                   \n",
       "MNIST-1D 0.5|0.5 KPGMC rbf             0.362667  0.358632  10.858667   \n",
       "                 KPGMC rbf one vs one  0.365333  0.371031  10.874667   \n",
       "                 KPGMC rbf orthogonal  0.349333  0.348268  11.056000   \n",
       "\n",
       "                                             f1      time  \n",
       "data             clf                                       \n",
       "MNIST-1D 0.5|0.5 KPGMC rbf             0.362667  0.754961  \n",
       "                 KPGMC rbf one vs one  0.365333  3.081364  \n",
       "                 KPGMC rbf orthogonal  0.349333  0.788694  "
      ]
     },
     "execution_count": 13,
     "metadata": {},
     "output_type": "execute_result"
    }
   ],
   "source": [
    "data.groupby([\"data\",\"clf\"]).mean(numeric_only=False)"
   ]
  },
  {
   "cell_type": "markdown",
   "id": "f60753fd-225d-4eb9-9f4a-b7a59c8b2670",
   "metadata": {},
   "source": [
    "# Full classification task"
   ]
  },
  {
   "cell_type": "code",
   "execution_count": 15,
   "id": "d374078d-d8c5-42e6-bc2c-9e83b0da7620",
   "metadata": {},
   "outputs": [
    {
     "data": {
      "application/vnd.jupyter.widget-view+json": {
       "model_id": "f4cf9843cc4347b2805f41f696a17002",
       "version_major": 2,
       "version_minor": 0
      },
      "text/plain": [
       "  0%|          | 0/33 [00:00<?, ?it/s]"
      ]
     },
     "metadata": {},
     "output_type": "display_data"
    },
    {
     "data": {
      "application/vnd.jupyter.widget-view+json": {
       "model_id": "",
       "version_major": 2,
       "version_minor": 0
      },
      "text/plain": [
       "5-fold CrossValidation of SVM linear on MNIST-1D 0.5|0.5:   0%|          | 0/5 [00:00<?, ?it/s]"
      ]
     },
     "metadata": {},
     "output_type": "display_data"
    },
    {
     "data": {
      "application/vnd.jupyter.widget-view+json": {
       "model_id": "",
       "version_major": 2,
       "version_minor": 0
      },
      "text/plain": [
       "5-fold CrossValidation of SVM linear balanced on MNIST-1D 0.5|0.5:   0%|          | 0/5 [00:00<?, ?it/s]"
      ]
     },
     "metadata": {},
     "output_type": "display_data"
    },
    {
     "data": {
      "application/vnd.jupyter.widget-view+json": {
       "model_id": "",
       "version_major": 2,
       "version_minor": 0
      },
      "text/plain": [
       "5-fold CrossValidation of SVM rbf on MNIST-1D 0.5|0.5:   0%|          | 0/5 [00:00<?, ?it/s]"
      ]
     },
     "metadata": {},
     "output_type": "display_data"
    },
    {
     "data": {
      "application/vnd.jupyter.widget-view+json": {
       "model_id": "",
       "version_major": 2,
       "version_minor": 0
      },
      "text/plain": [
       "5-fold CrossValidation of SVM rbf balanced on MNIST-1D 0.5|0.5:   0%|          | 0/5 [00:00<?, ?it/s]"
      ]
     },
     "metadata": {},
     "output_type": "display_data"
    },
    {
     "data": {
      "application/vnd.jupyter.widget-view+json": {
       "model_id": "",
       "version_major": 2,
       "version_minor": 0
      },
      "text/plain": [
       "5-fold CrossValidation of Tree on MNIST-1D 0.5|0.5:   0%|          | 0/5 [00:00<?, ?it/s]"
      ]
     },
     "metadata": {},
     "output_type": "display_data"
    },
    {
     "data": {
      "application/vnd.jupyter.widget-view+json": {
       "model_id": "",
       "version_major": 2,
       "version_minor": 0
      },
      "text/plain": [
       "5-fold CrossValidation of KPGMC normal copy on MNIST-1D 0.5|0.5:   0%|          | 0/5 [00:00<?, ?it/s]"
      ]
     },
     "metadata": {},
     "output_type": "display_data"
    },
    {
     "data": {
      "application/vnd.jupyter.widget-view+json": {
       "model_id": "",
       "version_major": 2,
       "version_minor": 0
      },
      "text/plain": [
       "5-fold CrossValidation of KPGMC ortho on MNIST-1D 0.5|0.5:   0%|          | 0/5 [00:00<?, ?it/s]"
      ]
     },
     "metadata": {},
     "output_type": "display_data"
    },
    {
     "data": {
      "application/vnd.jupyter.widget-view+json": {
       "model_id": "",
       "version_major": 2,
       "version_minor": 0
      },
      "text/plain": [
       "5-fold CrossValidation of KPGMC ortho one vs one on MNIST-1D 0.5|0.5:   0%|          | 0/5 [00:00<?, ?it/s]"
      ]
     },
     "metadata": {},
     "output_type": "display_data"
    },
    {
     "data": {
      "application/vnd.jupyter.widget-view+json": {
       "model_id": "",
       "version_major": 2,
       "version_minor": 0
      },
      "text/plain": [
       "5-fold CrossValidation of KPGMC exp on MNIST-1D 0.5|0.5:   0%|          | 0/5 [00:00<?, ?it/s]"
      ]
     },
     "metadata": {},
     "output_type": "display_data"
    },
    {
     "data": {
      "application/vnd.jupyter.widget-view+json": {
       "model_id": "",
       "version_major": 2,
       "version_minor": 0
      },
      "text/plain": [
       "5-fold CrossValidation of KPGMC gauss on MNIST-1D 0.5|0.5:   0%|          | 0/5 [00:00<?, ?it/s]"
      ]
     },
     "metadata": {},
     "output_type": "display_data"
    },
    {
     "data": {
      "application/vnd.jupyter.widget-view+json": {
       "model_id": "",
       "version_major": 2,
       "version_minor": 0
      },
      "text/plain": [
       "5-fold CrossValidation of KPGMC rbf on MNIST-1D 0.5|0.5:   0%|          | 0/5 [00:00<?, ?it/s]"
      ]
     },
     "metadata": {},
     "output_type": "display_data"
    },
    {
     "data": {
      "application/vnd.jupyter.widget-view+json": {
       "model_id": "",
       "version_major": 2,
       "version_minor": 0
      },
      "text/plain": [
       "5-fold CrossValidation of SVM linear on MNIST-1D 0.75|0.25:   0%|          | 0/5 [00:00<?, ?it/s]"
      ]
     },
     "metadata": {},
     "output_type": "display_data"
    },
    {
     "data": {
      "application/vnd.jupyter.widget-view+json": {
       "model_id": "",
       "version_major": 2,
       "version_minor": 0
      },
      "text/plain": [
       "5-fold CrossValidation of SVM linear balanced on MNIST-1D 0.75|0.25:   0%|          | 0/5 [00:00<?, ?it/s]"
      ]
     },
     "metadata": {},
     "output_type": "display_data"
    },
    {
     "data": {
      "application/vnd.jupyter.widget-view+json": {
       "model_id": "",
       "version_major": 2,
       "version_minor": 0
      },
      "text/plain": [
       "5-fold CrossValidation of SVM rbf on MNIST-1D 0.75|0.25:   0%|          | 0/5 [00:00<?, ?it/s]"
      ]
     },
     "metadata": {},
     "output_type": "display_data"
    },
    {
     "data": {
      "application/vnd.jupyter.widget-view+json": {
       "model_id": "",
       "version_major": 2,
       "version_minor": 0
      },
      "text/plain": [
       "5-fold CrossValidation of SVM rbf balanced on MNIST-1D 0.75|0.25:   0%|          | 0/5 [00:00<?, ?it/s]"
      ]
     },
     "metadata": {},
     "output_type": "display_data"
    },
    {
     "data": {
      "application/vnd.jupyter.widget-view+json": {
       "model_id": "",
       "version_major": 2,
       "version_minor": 0
      },
      "text/plain": [
       "5-fold CrossValidation of Tree on MNIST-1D 0.75|0.25:   0%|          | 0/5 [00:00<?, ?it/s]"
      ]
     },
     "metadata": {},
     "output_type": "display_data"
    },
    {
     "data": {
      "application/vnd.jupyter.widget-view+json": {
       "model_id": "",
       "version_major": 2,
       "version_minor": 0
      },
      "text/plain": [
       "5-fold CrossValidation of KPGMC normal copy on MNIST-1D 0.75|0.25:   0%|          | 0/5 [00:00<?, ?it/s]"
      ]
     },
     "metadata": {},
     "output_type": "display_data"
    },
    {
     "data": {
      "application/vnd.jupyter.widget-view+json": {
       "model_id": "",
       "version_major": 2,
       "version_minor": 0
      },
      "text/plain": [
       "5-fold CrossValidation of KPGMC ortho on MNIST-1D 0.75|0.25:   0%|          | 0/5 [00:00<?, ?it/s]"
      ]
     },
     "metadata": {},
     "output_type": "display_data"
    },
    {
     "data": {
      "application/vnd.jupyter.widget-view+json": {
       "model_id": "",
       "version_major": 2,
       "version_minor": 0
      },
      "text/plain": [
       "5-fold CrossValidation of KPGMC ortho one vs one on MNIST-1D 0.75|0.25:   0%|          | 0/5 [00:00<?, ?it/s]"
      ]
     },
     "metadata": {},
     "output_type": "display_data"
    },
    {
     "data": {
      "application/vnd.jupyter.widget-view+json": {
       "model_id": "",
       "version_major": 2,
       "version_minor": 0
      },
      "text/plain": [
       "5-fold CrossValidation of KPGMC exp on MNIST-1D 0.75|0.25:   0%|          | 0/5 [00:00<?, ?it/s]"
      ]
     },
     "metadata": {},
     "output_type": "display_data"
    },
    {
     "data": {
      "application/vnd.jupyter.widget-view+json": {
       "model_id": "",
       "version_major": 2,
       "version_minor": 0
      },
      "text/plain": [
       "5-fold CrossValidation of KPGMC gauss on MNIST-1D 0.75|0.25:   0%|          | 0/5 [00:00<?, ?it/s]"
      ]
     },
     "metadata": {},
     "output_type": "display_data"
    },
    {
     "data": {
      "application/vnd.jupyter.widget-view+json": {
       "model_id": "",
       "version_major": 2,
       "version_minor": 0
      },
      "text/plain": [
       "5-fold CrossValidation of KPGMC rbf on MNIST-1D 0.75|0.25:   0%|          | 0/5 [00:00<?, ?it/s]"
      ]
     },
     "metadata": {},
     "output_type": "display_data"
    },
    {
     "data": {
      "application/vnd.jupyter.widget-view+json": {
       "model_id": "",
       "version_major": 2,
       "version_minor": 0
      },
      "text/plain": [
       "5-fold CrossValidation of SVM linear on MNIST-1D 0.9|0.1:   0%|          | 0/5 [00:00<?, ?it/s]"
      ]
     },
     "metadata": {},
     "output_type": "display_data"
    },
    {
     "data": {
      "application/vnd.jupyter.widget-view+json": {
       "model_id": "",
       "version_major": 2,
       "version_minor": 0
      },
      "text/plain": [
       "5-fold CrossValidation of SVM linear balanced on MNIST-1D 0.9|0.1:   0%|          | 0/5 [00:00<?, ?it/s]"
      ]
     },
     "metadata": {},
     "output_type": "display_data"
    },
    {
     "data": {
      "application/vnd.jupyter.widget-view+json": {
       "model_id": "",
       "version_major": 2,
       "version_minor": 0
      },
      "text/plain": [
       "5-fold CrossValidation of SVM rbf on MNIST-1D 0.9|0.1:   0%|          | 0/5 [00:00<?, ?it/s]"
      ]
     },
     "metadata": {},
     "output_type": "display_data"
    },
    {
     "data": {
      "application/vnd.jupyter.widget-view+json": {
       "model_id": "",
       "version_major": 2,
       "version_minor": 0
      },
      "text/plain": [
       "5-fold CrossValidation of SVM rbf balanced on MNIST-1D 0.9|0.1:   0%|          | 0/5 [00:00<?, ?it/s]"
      ]
     },
     "metadata": {},
     "output_type": "display_data"
    },
    {
     "data": {
      "application/vnd.jupyter.widget-view+json": {
       "model_id": "",
       "version_major": 2,
       "version_minor": 0
      },
      "text/plain": [
       "5-fold CrossValidation of Tree on MNIST-1D 0.9|0.1:   0%|          | 0/5 [00:00<?, ?it/s]"
      ]
     },
     "metadata": {},
     "output_type": "display_data"
    },
    {
     "data": {
      "application/vnd.jupyter.widget-view+json": {
       "model_id": "",
       "version_major": 2,
       "version_minor": 0
      },
      "text/plain": [
       "5-fold CrossValidation of KPGMC normal copy on MNIST-1D 0.9|0.1:   0%|          | 0/5 [00:00<?, ?it/s]"
      ]
     },
     "metadata": {},
     "output_type": "display_data"
    },
    {
     "data": {
      "application/vnd.jupyter.widget-view+json": {
       "model_id": "",
       "version_major": 2,
       "version_minor": 0
      },
      "text/plain": [
       "5-fold CrossValidation of KPGMC ortho on MNIST-1D 0.9|0.1:   0%|          | 0/5 [00:00<?, ?it/s]"
      ]
     },
     "metadata": {},
     "output_type": "display_data"
    },
    {
     "data": {
      "application/vnd.jupyter.widget-view+json": {
       "model_id": "",
       "version_major": 2,
       "version_minor": 0
      },
      "text/plain": [
       "5-fold CrossValidation of KPGMC ortho one vs one on MNIST-1D 0.9|0.1:   0%|          | 0/5 [00:00<?, ?it/s]"
      ]
     },
     "metadata": {},
     "output_type": "display_data"
    },
    {
     "data": {
      "application/vnd.jupyter.widget-view+json": {
       "model_id": "",
       "version_major": 2,
       "version_minor": 0
      },
      "text/plain": [
       "5-fold CrossValidation of KPGMC exp on MNIST-1D 0.9|0.1:   0%|          | 0/5 [00:00<?, ?it/s]"
      ]
     },
     "metadata": {},
     "output_type": "display_data"
    },
    {
     "data": {
      "application/vnd.jupyter.widget-view+json": {
       "model_id": "",
       "version_major": 2,
       "version_minor": 0
      },
      "text/plain": [
       "5-fold CrossValidation of KPGMC gauss on MNIST-1D 0.9|0.1:   0%|          | 0/5 [00:00<?, ?it/s]"
      ]
     },
     "metadata": {},
     "output_type": "display_data"
    },
    {
     "data": {
      "application/vnd.jupyter.widget-view+json": {
       "model_id": "",
       "version_major": 2,
       "version_minor": 0
      },
      "text/plain": [
       "5-fold CrossValidation of KPGMC rbf on MNIST-1D 0.9|0.1:   0%|          | 0/5 [00:00<?, ?it/s]"
      ]
     },
     "metadata": {},
     "output_type": "display_data"
    }
   ],
   "source": [
    "task = Task(repeat=5)\n",
    "\n",
    "## DATASETS\n",
    "X,y = get_mnist(40,10,path=\"mnist1d.pkl\")\n",
    "X,y = X[::7],y[::7]\n",
    "task.add_data(\"MNIST-1D 0.5|0.5\",X,y)\n",
    "\n",
    "X,y = imbalance(*get_mnist(40,2,path=\"mnist1d.pkl\"),0.25) # i features 2 classes\n",
    "task.add_data(\"MNIST-1D 0.75|0.25\",X,y)\n",
    "\n",
    "X,y = imbalance(*get_mnist(40,2,path=\"mnist1d.pkl\"),0.1) # i features 2 classes\n",
    "task.add_data(\"MNIST-1D 0.9|0.1\",X,y)\n",
    "\n",
    "## CLASSIFIERS\n",
    "task.add_clf(\"SVM linear\",lambda :SVC(kernel=\"linear\"))\n",
    "task.add_clf(\"SVM linear balanced\",lambda :SVC(kernel=\"linear\",class_weight=\"balanced\"))\n",
    "task.add_clf(\"SVM rbf\",lambda :SVC())\n",
    "task.add_clf(\"SVM rbf balanced\",lambda :SVC(class_weight=\"balanced\"))\n",
    "task.add_clf(\"Tree\",lambda :DecisionTreeClassifier())\n",
    "task.add_clf(\"KPGMC normal copy\",lambda :kpgmc.KPGMC(kernel=lambda x,y:np.dot(x,y)**100 ,embedding=\"normal\",class_weight=None))\n",
    "task.add_clf(\"KPGMC ortho\",lambda :kpgmc.KPGMC(embedding=\"orthogonal\",class_weight=\"optimize\"))\n",
    "task.add_clf(\"KPGMC ortho one vs one\",lambda :OneVsOneClassifier(kpgmc.KPGMC(embedding=\"orthogonal\",class_weight=\"optimize\")))\n",
    "task.add_clf(\"KPGMC exp\",lambda :kpgmc.KPGMC(kernel=lambda x,y:np.exp(((np.dot(x,y)+1)/2)*100),class_weight=\"optimize\"))\n",
    "task.add_clf(\"KPGMC gauss\",lambda :kpgmc.KPGMC(kernel=lambda x,y:np.exp(np.dot(x,y)**2),class_weight=\"optimize\"))\n",
    "task.add_clf(\"KPGMC rbf\",lambda :kpgmc.KPGMC(kernel=lambda x,y:np.exp(-np.linalg.norm(x-y)**2),class_weight=\"optimize\"))\n",
    "\n",
    "\n",
    "data = task.run()"
   ]
  },
  {
   "cell_type": "code",
   "execution_count": 16,
   "id": "f7685f95-a069-4c49-8af8-c1a0fb8eeed1",
   "metadata": {},
   "outputs": [
    {
     "data": {
      "text/html": [
       "<div>\n",
       "<style scoped>\n",
       "    .dataframe tbody tr th:only-of-type {\n",
       "        vertical-align: middle;\n",
       "    }\n",
       "\n",
       "    .dataframe tbody tr th {\n",
       "        vertical-align: top;\n",
       "    }\n",
       "\n",
       "    .dataframe thead th {\n",
       "        text-align: right;\n",
       "    }\n",
       "</style>\n",
       "<table border=\"1\" class=\"dataframe\">\n",
       "  <thead>\n",
       "    <tr style=\"text-align: right;\">\n",
       "      <th></th>\n",
       "      <th></th>\n",
       "      <th>size</th>\n",
       "      <th>features</th>\n",
       "      <th>acc</th>\n",
       "      <th>precision</th>\n",
       "      <th>recall</th>\n",
       "      <th>ba</th>\n",
       "      <th>mse</th>\n",
       "      <th>f1</th>\n",
       "      <th>time</th>\n",
       "    </tr>\n",
       "    <tr>\n",
       "      <th>data</th>\n",
       "      <th>clf</th>\n",
       "      <th></th>\n",
       "      <th></th>\n",
       "      <th></th>\n",
       "      <th></th>\n",
       "      <th></th>\n",
       "      <th></th>\n",
       "      <th></th>\n",
       "      <th></th>\n",
       "      <th></th>\n",
       "    </tr>\n",
       "  </thead>\n",
       "  <tbody>\n",
       "    <tr>\n",
       "      <th rowspan=\"11\" valign=\"top\">MNIST-1D 0.5|0.5</th>\n",
       "      <th>KPGMC exp</th>\n",
       "      <td>500.0</td>\n",
       "      <td>40.0</td>\n",
       "      <td>0.381395</td>\n",
       "      <td>0.381395</td>\n",
       "      <td>0.381395</td>\n",
       "      <td>0.379253</td>\n",
       "      <td>11.438140</td>\n",
       "      <td>0.381395</td>\n",
       "      <td>1.954729</td>\n",
       "    </tr>\n",
       "    <tr>\n",
       "      <th>KPGMC gauss</th>\n",
       "      <td>500.0</td>\n",
       "      <td>40.0</td>\n",
       "      <td>0.259535</td>\n",
       "      <td>0.259535</td>\n",
       "      <td>0.259535</td>\n",
       "      <td>0.261646</td>\n",
       "      <td>15.560000</td>\n",
       "      <td>0.259535</td>\n",
       "      <td>1.285116</td>\n",
       "    </tr>\n",
       "    <tr>\n",
       "      <th>KPGMC normal copy</th>\n",
       "      <td>500.0</td>\n",
       "      <td>40.0</td>\n",
       "      <td>0.223256</td>\n",
       "      <td>0.223256</td>\n",
       "      <td>0.223256</td>\n",
       "      <td>0.219815</td>\n",
       "      <td>16.151628</td>\n",
       "      <td>0.223256</td>\n",
       "      <td>0.635442</td>\n",
       "    </tr>\n",
       "    <tr>\n",
       "      <th>KPGMC ortho</th>\n",
       "      <td>500.0</td>\n",
       "      <td>40.0</td>\n",
       "      <td>0.297674</td>\n",
       "      <td>0.297674</td>\n",
       "      <td>0.297674</td>\n",
       "      <td>0.308966</td>\n",
       "      <td>10.979535</td>\n",
       "      <td>0.297674</td>\n",
       "      <td>3.481870</td>\n",
       "    </tr>\n",
       "    <tr>\n",
       "      <th>KPGMC ortho one vs one</th>\n",
       "      <td>500.0</td>\n",
       "      <td>40.0</td>\n",
       "      <td>0.325581</td>\n",
       "      <td>0.325581</td>\n",
       "      <td>0.325581</td>\n",
       "      <td>0.323673</td>\n",
       "      <td>11.049302</td>\n",
       "      <td>0.325581</td>\n",
       "      <td>6.325761</td>\n",
       "    </tr>\n",
       "    <tr>\n",
       "      <th>KPGMC rbf</th>\n",
       "      <td>500.0</td>\n",
       "      <td>40.0</td>\n",
       "      <td>0.399070</td>\n",
       "      <td>0.399070</td>\n",
       "      <td>0.399070</td>\n",
       "      <td>0.406039</td>\n",
       "      <td>10.299535</td>\n",
       "      <td>0.399070</td>\n",
       "      <td>1.447167</td>\n",
       "    </tr>\n",
       "    <tr>\n",
       "      <th>SVM linear</th>\n",
       "      <td>500.0</td>\n",
       "      <td>40.0</td>\n",
       "      <td>0.255814</td>\n",
       "      <td>0.255814</td>\n",
       "      <td>0.255814</td>\n",
       "      <td>0.265489</td>\n",
       "      <td>12.844651</td>\n",
       "      <td>0.255814</td>\n",
       "      <td>0.036842</td>\n",
       "    </tr>\n",
       "    <tr>\n",
       "      <th>SVM linear balanced</th>\n",
       "      <td>500.0</td>\n",
       "      <td>40.0</td>\n",
       "      <td>0.252093</td>\n",
       "      <td>0.252093</td>\n",
       "      <td>0.252093</td>\n",
       "      <td>0.258891</td>\n",
       "      <td>13.188837</td>\n",
       "      <td>0.252093</td>\n",
       "      <td>0.038252</td>\n",
       "    </tr>\n",
       "    <tr>\n",
       "      <th>SVM rbf</th>\n",
       "      <td>500.0</td>\n",
       "      <td>40.0</td>\n",
       "      <td>0.386977</td>\n",
       "      <td>0.386977</td>\n",
       "      <td>0.386977</td>\n",
       "      <td>0.401542</td>\n",
       "      <td>10.785116</td>\n",
       "      <td>0.386977</td>\n",
       "      <td>0.014512</td>\n",
       "    </tr>\n",
       "    <tr>\n",
       "      <th>SVM rbf balanced</th>\n",
       "      <td>500.0</td>\n",
       "      <td>40.0</td>\n",
       "      <td>0.405581</td>\n",
       "      <td>0.405581</td>\n",
       "      <td>0.405581</td>\n",
       "      <td>0.411266</td>\n",
       "      <td>10.680000</td>\n",
       "      <td>0.405581</td>\n",
       "      <td>0.015085</td>\n",
       "    </tr>\n",
       "    <tr>\n",
       "      <th>Tree</th>\n",
       "      <td>500.0</td>\n",
       "      <td>40.0</td>\n",
       "      <td>0.249302</td>\n",
       "      <td>0.249302</td>\n",
       "      <td>0.249302</td>\n",
       "      <td>0.258098</td>\n",
       "      <td>12.522791</td>\n",
       "      <td>0.249302</td>\n",
       "      <td>0.020319</td>\n",
       "    </tr>\n",
       "    <tr>\n",
       "      <th rowspan=\"11\" valign=\"top\">MNIST-1D 0.75|0.25</th>\n",
       "      <th>KPGMC exp</th>\n",
       "      <td>466.0</td>\n",
       "      <td>40.0</td>\n",
       "      <td>0.968000</td>\n",
       "      <td>1.000000</td>\n",
       "      <td>0.870288</td>\n",
       "      <td>0.935144</td>\n",
       "      <td>0.032000</td>\n",
       "      <td>0.929447</td>\n",
       "      <td>0.630571</td>\n",
       "    </tr>\n",
       "    <tr>\n",
       "      <th>KPGMC gauss</th>\n",
       "      <td>466.0</td>\n",
       "      <td>40.0</td>\n",
       "      <td>0.941000</td>\n",
       "      <td>0.848957</td>\n",
       "      <td>0.930090</td>\n",
       "      <td>0.937029</td>\n",
       "      <td>0.059000</td>\n",
       "      <td>0.886802</td>\n",
       "      <td>0.668808</td>\n",
       "    </tr>\n",
       "    <tr>\n",
       "      <th>KPGMC normal copy</th>\n",
       "      <td>466.0</td>\n",
       "      <td>40.0</td>\n",
       "      <td>0.856000</td>\n",
       "      <td>1.000000</td>\n",
       "      <td>0.419626</td>\n",
       "      <td>0.709813</td>\n",
       "      <td>0.144000</td>\n",
       "      <td>0.589069</td>\n",
       "      <td>0.439389</td>\n",
       "    </tr>\n",
       "    <tr>\n",
       "      <th>KPGMC ortho</th>\n",
       "      <td>466.0</td>\n",
       "      <td>40.0</td>\n",
       "      <td>0.961000</td>\n",
       "      <td>0.957938</td>\n",
       "      <td>0.883858</td>\n",
       "      <td>0.935265</td>\n",
       "      <td>0.039000</td>\n",
       "      <td>0.917476</td>\n",
       "      <td>0.947927</td>\n",
       "    </tr>\n",
       "    <tr>\n",
       "      <th>KPGMC ortho one vs one</th>\n",
       "      <td>466.0</td>\n",
       "      <td>40.0</td>\n",
       "      <td>0.247000</td>\n",
       "      <td>0.247000</td>\n",
       "      <td>1.000000</td>\n",
       "      <td>0.500000</td>\n",
       "      <td>0.753000</td>\n",
       "      <td>0.395915</td>\n",
       "      <td>0.891669</td>\n",
       "    </tr>\n",
       "    <tr>\n",
       "      <th>KPGMC rbf</th>\n",
       "      <td>466.0</td>\n",
       "      <td>40.0</td>\n",
       "      <td>0.991000</td>\n",
       "      <td>1.000000</td>\n",
       "      <td>0.964057</td>\n",
       "      <td>0.982028</td>\n",
       "      <td>0.009000</td>\n",
       "      <td>0.981503</td>\n",
       "      <td>0.783666</td>\n",
       "    </tr>\n",
       "    <tr>\n",
       "      <th>SVM linear</th>\n",
       "      <td>466.0</td>\n",
       "      <td>40.0</td>\n",
       "      <td>0.965000</td>\n",
       "      <td>0.938625</td>\n",
       "      <td>0.919887</td>\n",
       "      <td>0.949970</td>\n",
       "      <td>0.035000</td>\n",
       "      <td>0.927818</td>\n",
       "      <td>0.003507</td>\n",
       "    </tr>\n",
       "    <tr>\n",
       "      <th>SVM linear balanced</th>\n",
       "      <td>466.0</td>\n",
       "      <td>40.0</td>\n",
       "      <td>0.962000</td>\n",
       "      <td>0.916226</td>\n",
       "      <td>0.931890</td>\n",
       "      <td>0.952028</td>\n",
       "      <td>0.038000</td>\n",
       "      <td>0.923010</td>\n",
       "      <td>0.002091</td>\n",
       "    </tr>\n",
       "    <tr>\n",
       "      <th>SVM rbf</th>\n",
       "      <td>466.0</td>\n",
       "      <td>40.0</td>\n",
       "      <td>0.995000</td>\n",
       "      <td>0.995745</td>\n",
       "      <td>0.983982</td>\n",
       "      <td>0.991329</td>\n",
       "      <td>0.005000</td>\n",
       "      <td>0.989762</td>\n",
       "      <td>0.002102</td>\n",
       "    </tr>\n",
       "    <tr>\n",
       "      <th>SVM rbf balanced</th>\n",
       "      <td>466.0</td>\n",
       "      <td>40.0</td>\n",
       "      <td>0.994000</td>\n",
       "      <td>0.987615</td>\n",
       "      <td>0.988063</td>\n",
       "      <td>0.992048</td>\n",
       "      <td>0.006000</td>\n",
       "      <td>0.987794</td>\n",
       "      <td>0.002412</td>\n",
       "    </tr>\n",
       "    <tr>\n",
       "      <th>Tree</th>\n",
       "      <td>466.0</td>\n",
       "      <td>40.0</td>\n",
       "      <td>0.913000</td>\n",
       "      <td>0.833339</td>\n",
       "      <td>0.817597</td>\n",
       "      <td>0.881383</td>\n",
       "      <td>0.087000</td>\n",
       "      <td>0.824013</td>\n",
       "      <td>0.015281</td>\n",
       "    </tr>\n",
       "    <tr>\n",
       "      <th rowspan=\"11\" valign=\"top\">MNIST-1D 0.9|0.1</th>\n",
       "      <th>KPGMC exp</th>\n",
       "      <td>388.0</td>\n",
       "      <td>40.0</td>\n",
       "      <td>0.968862</td>\n",
       "      <td>1.000000</td>\n",
       "      <td>0.691842</td>\n",
       "      <td>0.845921</td>\n",
       "      <td>0.031138</td>\n",
       "      <td>0.814815</td>\n",
       "      <td>0.479890</td>\n",
       "    </tr>\n",
       "    <tr>\n",
       "      <th>KPGMC gauss</th>\n",
       "      <td>388.0</td>\n",
       "      <td>40.0</td>\n",
       "      <td>0.926946</td>\n",
       "      <td>0.722576</td>\n",
       "      <td>0.473904</td>\n",
       "      <td>0.726379</td>\n",
       "      <td>0.073054</td>\n",
       "      <td>0.551355</td>\n",
       "      <td>0.538933</td>\n",
       "    </tr>\n",
       "    <tr>\n",
       "      <th>KPGMC normal copy</th>\n",
       "      <td>388.0</td>\n",
       "      <td>40.0</td>\n",
       "      <td>0.910180</td>\n",
       "      <td>0.750000</td>\n",
       "      <td>0.116053</td>\n",
       "      <td>0.557381</td>\n",
       "      <td>0.089820</td>\n",
       "      <td>0.193903</td>\n",
       "      <td>0.329887</td>\n",
       "    </tr>\n",
       "    <tr>\n",
       "      <th>KPGMC ortho</th>\n",
       "      <td>388.0</td>\n",
       "      <td>40.0</td>\n",
       "      <td>0.978443</td>\n",
       "      <td>0.919048</td>\n",
       "      <td>0.880833</td>\n",
       "      <td>0.935052</td>\n",
       "      <td>0.021557</td>\n",
       "      <td>0.894160</td>\n",
       "      <td>0.722910</td>\n",
       "    </tr>\n",
       "    <tr>\n",
       "      <th>KPGMC ortho one vs one</th>\n",
       "      <td>388.0</td>\n",
       "      <td>40.0</td>\n",
       "      <td>0.099401</td>\n",
       "      <td>0.099401</td>\n",
       "      <td>1.000000</td>\n",
       "      <td>0.500000</td>\n",
       "      <td>0.900599</td>\n",
       "      <td>0.180402</td>\n",
       "      <td>0.735216</td>\n",
       "    </tr>\n",
       "    <tr>\n",
       "      <th>KPGMC rbf</th>\n",
       "      <td>388.0</td>\n",
       "      <td>40.0</td>\n",
       "      <td>0.989222</td>\n",
       "      <td>0.987500</td>\n",
       "      <td>0.911974</td>\n",
       "      <td>0.955325</td>\n",
       "      <td>0.010778</td>\n",
       "      <td>0.946539</td>\n",
       "      <td>0.674541</td>\n",
       "    </tr>\n",
       "    <tr>\n",
       "      <th>SVM linear</th>\n",
       "      <td>388.0</td>\n",
       "      <td>40.0</td>\n",
       "      <td>0.977246</td>\n",
       "      <td>0.880652</td>\n",
       "      <td>0.896754</td>\n",
       "      <td>0.941766</td>\n",
       "      <td>0.022754</td>\n",
       "      <td>0.884938</td>\n",
       "      <td>0.002787</td>\n",
       "    </tr>\n",
       "    <tr>\n",
       "      <th>SVM linear balanced</th>\n",
       "      <td>388.0</td>\n",
       "      <td>40.0</td>\n",
       "      <td>0.982036</td>\n",
       "      <td>0.895873</td>\n",
       "      <td>0.934474</td>\n",
       "      <td>0.961288</td>\n",
       "      <td>0.017964</td>\n",
       "      <td>0.910442</td>\n",
       "      <td>0.001539</td>\n",
       "    </tr>\n",
       "    <tr>\n",
       "      <th>SVM rbf</th>\n",
       "      <td>388.0</td>\n",
       "      <td>40.0</td>\n",
       "      <td>0.988024</td>\n",
       "      <td>1.000000</td>\n",
       "      <td>0.890395</td>\n",
       "      <td>0.945197</td>\n",
       "      <td>0.011976</td>\n",
       "      <td>0.940469</td>\n",
       "      <td>0.001330</td>\n",
       "    </tr>\n",
       "    <tr>\n",
       "      <th>SVM rbf balanced</th>\n",
       "      <td>388.0</td>\n",
       "      <td>40.0</td>\n",
       "      <td>0.995210</td>\n",
       "      <td>0.984615</td>\n",
       "      <td>0.966974</td>\n",
       "      <td>0.982842</td>\n",
       "      <td>0.004790</td>\n",
       "      <td>0.975015</td>\n",
       "      <td>0.001618</td>\n",
       "    </tr>\n",
       "    <tr>\n",
       "      <th>Tree</th>\n",
       "      <td>388.0</td>\n",
       "      <td>40.0</td>\n",
       "      <td>0.938922</td>\n",
       "      <td>0.728167</td>\n",
       "      <td>0.626404</td>\n",
       "      <td>0.800614</td>\n",
       "      <td>0.061078</td>\n",
       "      <td>0.663851</td>\n",
       "      <td>0.013388</td>\n",
       "    </tr>\n",
       "  </tbody>\n",
       "</table>\n",
       "</div>"
      ],
      "text/plain": [
       "                                            size  features       acc  \\\n",
       "data               clf                                                 \n",
       "MNIST-1D 0.5|0.5   KPGMC exp               500.0      40.0  0.381395   \n",
       "                   KPGMC gauss             500.0      40.0  0.259535   \n",
       "                   KPGMC normal copy       500.0      40.0  0.223256   \n",
       "                   KPGMC ortho             500.0      40.0  0.297674   \n",
       "                   KPGMC ortho one vs one  500.0      40.0  0.325581   \n",
       "                   KPGMC rbf               500.0      40.0  0.399070   \n",
       "                   SVM linear              500.0      40.0  0.255814   \n",
       "                   SVM linear balanced     500.0      40.0  0.252093   \n",
       "                   SVM rbf                 500.0      40.0  0.386977   \n",
       "                   SVM rbf balanced        500.0      40.0  0.405581   \n",
       "                   Tree                    500.0      40.0  0.249302   \n",
       "MNIST-1D 0.75|0.25 KPGMC exp               466.0      40.0  0.968000   \n",
       "                   KPGMC gauss             466.0      40.0  0.941000   \n",
       "                   KPGMC normal copy       466.0      40.0  0.856000   \n",
       "                   KPGMC ortho             466.0      40.0  0.961000   \n",
       "                   KPGMC ortho one vs one  466.0      40.0  0.247000   \n",
       "                   KPGMC rbf               466.0      40.0  0.991000   \n",
       "                   SVM linear              466.0      40.0  0.965000   \n",
       "                   SVM linear balanced     466.0      40.0  0.962000   \n",
       "                   SVM rbf                 466.0      40.0  0.995000   \n",
       "                   SVM rbf balanced        466.0      40.0  0.994000   \n",
       "                   Tree                    466.0      40.0  0.913000   \n",
       "MNIST-1D 0.9|0.1   KPGMC exp               388.0      40.0  0.968862   \n",
       "                   KPGMC gauss             388.0      40.0  0.926946   \n",
       "                   KPGMC normal copy       388.0      40.0  0.910180   \n",
       "                   KPGMC ortho             388.0      40.0  0.978443   \n",
       "                   KPGMC ortho one vs one  388.0      40.0  0.099401   \n",
       "                   KPGMC rbf               388.0      40.0  0.989222   \n",
       "                   SVM linear              388.0      40.0  0.977246   \n",
       "                   SVM linear balanced     388.0      40.0  0.982036   \n",
       "                   SVM rbf                 388.0      40.0  0.988024   \n",
       "                   SVM rbf balanced        388.0      40.0  0.995210   \n",
       "                   Tree                    388.0      40.0  0.938922   \n",
       "\n",
       "                                           precision    recall        ba  \\\n",
       "data               clf                                                     \n",
       "MNIST-1D 0.5|0.5   KPGMC exp                0.381395  0.381395  0.379253   \n",
       "                   KPGMC gauss              0.259535  0.259535  0.261646   \n",
       "                   KPGMC normal copy        0.223256  0.223256  0.219815   \n",
       "                   KPGMC ortho              0.297674  0.297674  0.308966   \n",
       "                   KPGMC ortho one vs one   0.325581  0.325581  0.323673   \n",
       "                   KPGMC rbf                0.399070  0.399070  0.406039   \n",
       "                   SVM linear               0.255814  0.255814  0.265489   \n",
       "                   SVM linear balanced      0.252093  0.252093  0.258891   \n",
       "                   SVM rbf                  0.386977  0.386977  0.401542   \n",
       "                   SVM rbf balanced         0.405581  0.405581  0.411266   \n",
       "                   Tree                     0.249302  0.249302  0.258098   \n",
       "MNIST-1D 0.75|0.25 KPGMC exp                1.000000  0.870288  0.935144   \n",
       "                   KPGMC gauss              0.848957  0.930090  0.937029   \n",
       "                   KPGMC normal copy        1.000000  0.419626  0.709813   \n",
       "                   KPGMC ortho              0.957938  0.883858  0.935265   \n",
       "                   KPGMC ortho one vs one   0.247000  1.000000  0.500000   \n",
       "                   KPGMC rbf                1.000000  0.964057  0.982028   \n",
       "                   SVM linear               0.938625  0.919887  0.949970   \n",
       "                   SVM linear balanced      0.916226  0.931890  0.952028   \n",
       "                   SVM rbf                  0.995745  0.983982  0.991329   \n",
       "                   SVM rbf balanced         0.987615  0.988063  0.992048   \n",
       "                   Tree                     0.833339  0.817597  0.881383   \n",
       "MNIST-1D 0.9|0.1   KPGMC exp                1.000000  0.691842  0.845921   \n",
       "                   KPGMC gauss              0.722576  0.473904  0.726379   \n",
       "                   KPGMC normal copy        0.750000  0.116053  0.557381   \n",
       "                   KPGMC ortho              0.919048  0.880833  0.935052   \n",
       "                   KPGMC ortho one vs one   0.099401  1.000000  0.500000   \n",
       "                   KPGMC rbf                0.987500  0.911974  0.955325   \n",
       "                   SVM linear               0.880652  0.896754  0.941766   \n",
       "                   SVM linear balanced      0.895873  0.934474  0.961288   \n",
       "                   SVM rbf                  1.000000  0.890395  0.945197   \n",
       "                   SVM rbf balanced         0.984615  0.966974  0.982842   \n",
       "                   Tree                     0.728167  0.626404  0.800614   \n",
       "\n",
       "                                                 mse        f1      time  \n",
       "data               clf                                                    \n",
       "MNIST-1D 0.5|0.5   KPGMC exp               11.438140  0.381395  1.954729  \n",
       "                   KPGMC gauss             15.560000  0.259535  1.285116  \n",
       "                   KPGMC normal copy       16.151628  0.223256  0.635442  \n",
       "                   KPGMC ortho             10.979535  0.297674  3.481870  \n",
       "                   KPGMC ortho one vs one  11.049302  0.325581  6.325761  \n",
       "                   KPGMC rbf               10.299535  0.399070  1.447167  \n",
       "                   SVM linear              12.844651  0.255814  0.036842  \n",
       "                   SVM linear balanced     13.188837  0.252093  0.038252  \n",
       "                   SVM rbf                 10.785116  0.386977  0.014512  \n",
       "                   SVM rbf balanced        10.680000  0.405581  0.015085  \n",
       "                   Tree                    12.522791  0.249302  0.020319  \n",
       "MNIST-1D 0.75|0.25 KPGMC exp                0.032000  0.929447  0.630571  \n",
       "                   KPGMC gauss              0.059000  0.886802  0.668808  \n",
       "                   KPGMC normal copy        0.144000  0.589069  0.439389  \n",
       "                   KPGMC ortho              0.039000  0.917476  0.947927  \n",
       "                   KPGMC ortho one vs one   0.753000  0.395915  0.891669  \n",
       "                   KPGMC rbf                0.009000  0.981503  0.783666  \n",
       "                   SVM linear               0.035000  0.927818  0.003507  \n",
       "                   SVM linear balanced      0.038000  0.923010  0.002091  \n",
       "                   SVM rbf                  0.005000  0.989762  0.002102  \n",
       "                   SVM rbf balanced         0.006000  0.987794  0.002412  \n",
       "                   Tree                     0.087000  0.824013  0.015281  \n",
       "MNIST-1D 0.9|0.1   KPGMC exp                0.031138  0.814815  0.479890  \n",
       "                   KPGMC gauss              0.073054  0.551355  0.538933  \n",
       "                   KPGMC normal copy        0.089820  0.193903  0.329887  \n",
       "                   KPGMC ortho              0.021557  0.894160  0.722910  \n",
       "                   KPGMC ortho one vs one   0.900599  0.180402  0.735216  \n",
       "                   KPGMC rbf                0.010778  0.946539  0.674541  \n",
       "                   SVM linear               0.022754  0.884938  0.002787  \n",
       "                   SVM linear balanced      0.017964  0.910442  0.001539  \n",
       "                   SVM rbf                  0.011976  0.940469  0.001330  \n",
       "                   SVM rbf balanced         0.004790  0.975015  0.001618  \n",
       "                   Tree                     0.061078  0.663851  0.013388  "
      ]
     },
     "execution_count": 16,
     "metadata": {},
     "output_type": "execute_result"
    }
   ],
   "source": [
    "data.groupby([\"data\",\"clf\"]).mean(numeric_only=False)"
   ]
  },
  {
   "cell_type": "code",
   "execution_count": null,
   "id": "538471e5-16cf-4b65-8e2a-079277d2a4e9",
   "metadata": {},
   "outputs": [],
   "source": []
  }
 ],
 "metadata": {
  "kernelspec": {
   "display_name": "Python 3 (ipykernel)",
   "language": "python",
   "name": "python3"
  },
  "language_info": {
   "codemirror_mode": {
    "name": "ipython",
    "version": 3
   },
   "file_extension": ".py",
   "mimetype": "text/x-python",
   "name": "python",
   "nbconvert_exporter": "python",
   "pygments_lexer": "ipython3",
   "version": "3.10.6"
  }
 },
 "nbformat": 4,
 "nbformat_minor": 5
}
